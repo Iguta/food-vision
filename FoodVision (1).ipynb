{
  "nbformat": 4,
  "nbformat_minor": 0,
  "metadata": {
    "colab": {
      "provenance": [],
      "machine_shape": "hm"
    },
    "kernelspec": {
      "name": "python3",
      "display_name": "Python 3"
    },
    "language_info": {
      "name": "python"
    },
    "widgets": {
      "application/vnd.jupyter.widget-state+json": {
        "9ddb6c66b1894ed89e658abdf9cfff12": {
          "model_module": "@jupyter-widgets/controls",
          "model_name": "HBoxModel",
          "model_module_version": "1.5.0",
          "state": {
            "_dom_classes": [],
            "_model_module": "@jupyter-widgets/controls",
            "_model_module_version": "1.5.0",
            "_model_name": "HBoxModel",
            "_view_count": null,
            "_view_module": "@jupyter-widgets/controls",
            "_view_module_version": "1.5.0",
            "_view_name": "HBoxView",
            "box_style": "",
            "children": [
              "IPY_MODEL_194b2b5b170240b5abd9c8d3614b8bd0",
              "IPY_MODEL_da26fbc63f164d5098c886462c79c053",
              "IPY_MODEL_2b2fb2cc54e1405fa4a5bd069321e56c"
            ],
            "layout": "IPY_MODEL_61f5a692c2b14ee5b9363c45fa75748b"
          }
        },
        "194b2b5b170240b5abd9c8d3614b8bd0": {
          "model_module": "@jupyter-widgets/controls",
          "model_name": "HTMLModel",
          "model_module_version": "1.5.0",
          "state": {
            "_dom_classes": [],
            "_model_module": "@jupyter-widgets/controls",
            "_model_module_version": "1.5.0",
            "_model_name": "HTMLModel",
            "_view_count": null,
            "_view_module": "@jupyter-widgets/controls",
            "_view_module_version": "1.5.0",
            "_view_name": "HTMLView",
            "description": "",
            "description_tooltip": null,
            "layout": "IPY_MODEL_90ee1cd522f84ce89cfc2114173057c7",
            "placeholder": "​",
            "style": "IPY_MODEL_07af2dc13fa143f985ec6344fc113303",
            "value": "100%"
          }
        },
        "da26fbc63f164d5098c886462c79c053": {
          "model_module": "@jupyter-widgets/controls",
          "model_name": "FloatProgressModel",
          "model_module_version": "1.5.0",
          "state": {
            "_dom_classes": [],
            "_model_module": "@jupyter-widgets/controls",
            "_model_module_version": "1.5.0",
            "_model_name": "FloatProgressModel",
            "_view_count": null,
            "_view_module": "@jupyter-widgets/controls",
            "_view_module_version": "1.5.0",
            "_view_name": "ProgressView",
            "bar_style": "success",
            "description": "",
            "description_tooltip": null,
            "layout": "IPY_MODEL_dd0cf86d61cf4cfe9405b8a0701d9a08",
            "max": 5,
            "min": 0,
            "orientation": "horizontal",
            "style": "IPY_MODEL_30956ca96ec242a086791303419a07f5",
            "value": 5
          }
        },
        "2b2fb2cc54e1405fa4a5bd069321e56c": {
          "model_module": "@jupyter-widgets/controls",
          "model_name": "HTMLModel",
          "model_module_version": "1.5.0",
          "state": {
            "_dom_classes": [],
            "_model_module": "@jupyter-widgets/controls",
            "_model_module_version": "1.5.0",
            "_model_name": "HTMLModel",
            "_view_count": null,
            "_view_module": "@jupyter-widgets/controls",
            "_view_module_version": "1.5.0",
            "_view_name": "HTMLView",
            "description": "",
            "description_tooltip": null,
            "layout": "IPY_MODEL_fc82b8bf51604837b6739645b6e282a4",
            "placeholder": "​",
            "style": "IPY_MODEL_e81fb8e7426b455bb4aeb0e7077e1e18",
            "value": " 5/5 [37:20&lt;00:00, 447.25s/it]"
          }
        },
        "61f5a692c2b14ee5b9363c45fa75748b": {
          "model_module": "@jupyter-widgets/base",
          "model_name": "LayoutModel",
          "model_module_version": "1.2.0",
          "state": {
            "_model_module": "@jupyter-widgets/base",
            "_model_module_version": "1.2.0",
            "_model_name": "LayoutModel",
            "_view_count": null,
            "_view_module": "@jupyter-widgets/base",
            "_view_module_version": "1.2.0",
            "_view_name": "LayoutView",
            "align_content": null,
            "align_items": null,
            "align_self": null,
            "border": null,
            "bottom": null,
            "display": null,
            "flex": null,
            "flex_flow": null,
            "grid_area": null,
            "grid_auto_columns": null,
            "grid_auto_flow": null,
            "grid_auto_rows": null,
            "grid_column": null,
            "grid_gap": null,
            "grid_row": null,
            "grid_template_areas": null,
            "grid_template_columns": null,
            "grid_template_rows": null,
            "height": null,
            "justify_content": null,
            "justify_items": null,
            "left": null,
            "margin": null,
            "max_height": null,
            "max_width": null,
            "min_height": null,
            "min_width": null,
            "object_fit": null,
            "object_position": null,
            "order": null,
            "overflow": null,
            "overflow_x": null,
            "overflow_y": null,
            "padding": null,
            "right": null,
            "top": null,
            "visibility": null,
            "width": null
          }
        },
        "90ee1cd522f84ce89cfc2114173057c7": {
          "model_module": "@jupyter-widgets/base",
          "model_name": "LayoutModel",
          "model_module_version": "1.2.0",
          "state": {
            "_model_module": "@jupyter-widgets/base",
            "_model_module_version": "1.2.0",
            "_model_name": "LayoutModel",
            "_view_count": null,
            "_view_module": "@jupyter-widgets/base",
            "_view_module_version": "1.2.0",
            "_view_name": "LayoutView",
            "align_content": null,
            "align_items": null,
            "align_self": null,
            "border": null,
            "bottom": null,
            "display": null,
            "flex": null,
            "flex_flow": null,
            "grid_area": null,
            "grid_auto_columns": null,
            "grid_auto_flow": null,
            "grid_auto_rows": null,
            "grid_column": null,
            "grid_gap": null,
            "grid_row": null,
            "grid_template_areas": null,
            "grid_template_columns": null,
            "grid_template_rows": null,
            "height": null,
            "justify_content": null,
            "justify_items": null,
            "left": null,
            "margin": null,
            "max_height": null,
            "max_width": null,
            "min_height": null,
            "min_width": null,
            "object_fit": null,
            "object_position": null,
            "order": null,
            "overflow": null,
            "overflow_x": null,
            "overflow_y": null,
            "padding": null,
            "right": null,
            "top": null,
            "visibility": null,
            "width": null
          }
        },
        "07af2dc13fa143f985ec6344fc113303": {
          "model_module": "@jupyter-widgets/controls",
          "model_name": "DescriptionStyleModel",
          "model_module_version": "1.5.0",
          "state": {
            "_model_module": "@jupyter-widgets/controls",
            "_model_module_version": "1.5.0",
            "_model_name": "DescriptionStyleModel",
            "_view_count": null,
            "_view_module": "@jupyter-widgets/base",
            "_view_module_version": "1.2.0",
            "_view_name": "StyleView",
            "description_width": ""
          }
        },
        "dd0cf86d61cf4cfe9405b8a0701d9a08": {
          "model_module": "@jupyter-widgets/base",
          "model_name": "LayoutModel",
          "model_module_version": "1.2.0",
          "state": {
            "_model_module": "@jupyter-widgets/base",
            "_model_module_version": "1.2.0",
            "_model_name": "LayoutModel",
            "_view_count": null,
            "_view_module": "@jupyter-widgets/base",
            "_view_module_version": "1.2.0",
            "_view_name": "LayoutView",
            "align_content": null,
            "align_items": null,
            "align_self": null,
            "border": null,
            "bottom": null,
            "display": null,
            "flex": null,
            "flex_flow": null,
            "grid_area": null,
            "grid_auto_columns": null,
            "grid_auto_flow": null,
            "grid_auto_rows": null,
            "grid_column": null,
            "grid_gap": null,
            "grid_row": null,
            "grid_template_areas": null,
            "grid_template_columns": null,
            "grid_template_rows": null,
            "height": null,
            "justify_content": null,
            "justify_items": null,
            "left": null,
            "margin": null,
            "max_height": null,
            "max_width": null,
            "min_height": null,
            "min_width": null,
            "object_fit": null,
            "object_position": null,
            "order": null,
            "overflow": null,
            "overflow_x": null,
            "overflow_y": null,
            "padding": null,
            "right": null,
            "top": null,
            "visibility": null,
            "width": null
          }
        },
        "30956ca96ec242a086791303419a07f5": {
          "model_module": "@jupyter-widgets/controls",
          "model_name": "ProgressStyleModel",
          "model_module_version": "1.5.0",
          "state": {
            "_model_module": "@jupyter-widgets/controls",
            "_model_module_version": "1.5.0",
            "_model_name": "ProgressStyleModel",
            "_view_count": null,
            "_view_module": "@jupyter-widgets/base",
            "_view_module_version": "1.2.0",
            "_view_name": "StyleView",
            "bar_color": null,
            "description_width": ""
          }
        },
        "fc82b8bf51604837b6739645b6e282a4": {
          "model_module": "@jupyter-widgets/base",
          "model_name": "LayoutModel",
          "model_module_version": "1.2.0",
          "state": {
            "_model_module": "@jupyter-widgets/base",
            "_model_module_version": "1.2.0",
            "_model_name": "LayoutModel",
            "_view_count": null,
            "_view_module": "@jupyter-widgets/base",
            "_view_module_version": "1.2.0",
            "_view_name": "LayoutView",
            "align_content": null,
            "align_items": null,
            "align_self": null,
            "border": null,
            "bottom": null,
            "display": null,
            "flex": null,
            "flex_flow": null,
            "grid_area": null,
            "grid_auto_columns": null,
            "grid_auto_flow": null,
            "grid_auto_rows": null,
            "grid_column": null,
            "grid_gap": null,
            "grid_row": null,
            "grid_template_areas": null,
            "grid_template_columns": null,
            "grid_template_rows": null,
            "height": null,
            "justify_content": null,
            "justify_items": null,
            "left": null,
            "margin": null,
            "max_height": null,
            "max_width": null,
            "min_height": null,
            "min_width": null,
            "object_fit": null,
            "object_position": null,
            "order": null,
            "overflow": null,
            "overflow_x": null,
            "overflow_y": null,
            "padding": null,
            "right": null,
            "top": null,
            "visibility": null,
            "width": null
          }
        },
        "e81fb8e7426b455bb4aeb0e7077e1e18": {
          "model_module": "@jupyter-widgets/controls",
          "model_name": "DescriptionStyleModel",
          "model_module_version": "1.5.0",
          "state": {
            "_model_module": "@jupyter-widgets/controls",
            "_model_module_version": "1.5.0",
            "_model_name": "DescriptionStyleModel",
            "_view_count": null,
            "_view_module": "@jupyter-widgets/base",
            "_view_module_version": "1.2.0",
            "_view_name": "StyleView",
            "description_width": ""
          }
        },
        "1b3d93bd4f6847e185348627dd6ab8f4": {
          "model_module": "@jupyter-widgets/controls",
          "model_name": "HBoxModel",
          "model_module_version": "1.5.0",
          "state": {
            "_dom_classes": [],
            "_model_module": "@jupyter-widgets/controls",
            "_model_module_version": "1.5.0",
            "_model_name": "HBoxModel",
            "_view_count": null,
            "_view_module": "@jupyter-widgets/controls",
            "_view_module_version": "1.5.0",
            "_view_name": "HBoxView",
            "box_style": "",
            "children": [
              "IPY_MODEL_5696712cef2840fd9d0d8421fb972398",
              "IPY_MODEL_e34eeaaddfb44d90b0f818f210d50a1c",
              "IPY_MODEL_5603918a1ec24f9fbaeb800f93717eb6"
            ],
            "layout": "IPY_MODEL_7b214a6b703a4b75a461a04bc000a33f"
          }
        },
        "5696712cef2840fd9d0d8421fb972398": {
          "model_module": "@jupyter-widgets/controls",
          "model_name": "HTMLModel",
          "model_module_version": "1.5.0",
          "state": {
            "_dom_classes": [],
            "_model_module": "@jupyter-widgets/controls",
            "_model_module_version": "1.5.0",
            "_model_name": "HTMLModel",
            "_view_count": null,
            "_view_module": "@jupyter-widgets/controls",
            "_view_module_version": "1.5.0",
            "_view_name": "HTMLView",
            "description": "",
            "description_tooltip": null,
            "layout": "IPY_MODEL_1aed671ca7d44fa0afc4f85d0ed440ba",
            "placeholder": "​",
            "style": "IPY_MODEL_1cca9486ac7a495d9c7bda00c1895b1a",
            "value": "100%"
          }
        },
        "e34eeaaddfb44d90b0f818f210d50a1c": {
          "model_module": "@jupyter-widgets/controls",
          "model_name": "FloatProgressModel",
          "model_module_version": "1.5.0",
          "state": {
            "_dom_classes": [],
            "_model_module": "@jupyter-widgets/controls",
            "_model_module_version": "1.5.0",
            "_model_name": "FloatProgressModel",
            "_view_count": null,
            "_view_module": "@jupyter-widgets/controls",
            "_view_module_version": "1.5.0",
            "_view_name": "ProgressView",
            "bar_style": "success",
            "description": "",
            "description_tooltip": null,
            "layout": "IPY_MODEL_115d65cb527545eba6a90616b2679339",
            "max": 40,
            "min": 0,
            "orientation": "horizontal",
            "style": "IPY_MODEL_58bd2ffbe9874c919a70805a62e04849",
            "value": 40
          }
        },
        "5603918a1ec24f9fbaeb800f93717eb6": {
          "model_module": "@jupyter-widgets/controls",
          "model_name": "HTMLModel",
          "model_module_version": "1.5.0",
          "state": {
            "_dom_classes": [],
            "_model_module": "@jupyter-widgets/controls",
            "_model_module_version": "1.5.0",
            "_model_name": "HTMLModel",
            "_view_count": null,
            "_view_module": "@jupyter-widgets/controls",
            "_view_module_version": "1.5.0",
            "_view_name": "HTMLView",
            "description": "",
            "description_tooltip": null,
            "layout": "IPY_MODEL_8000b583fa2b4da3bb44562ddc4d5671",
            "placeholder": "​",
            "style": "IPY_MODEL_92f47d03bd5b4662ae03b0179434b21b",
            "value": " 40/40 [01:44&lt;00:00,  2.21s/it]"
          }
        },
        "7b214a6b703a4b75a461a04bc000a33f": {
          "model_module": "@jupyter-widgets/base",
          "model_name": "LayoutModel",
          "model_module_version": "1.2.0",
          "state": {
            "_model_module": "@jupyter-widgets/base",
            "_model_module_version": "1.2.0",
            "_model_name": "LayoutModel",
            "_view_count": null,
            "_view_module": "@jupyter-widgets/base",
            "_view_module_version": "1.2.0",
            "_view_name": "LayoutView",
            "align_content": null,
            "align_items": null,
            "align_self": null,
            "border": null,
            "bottom": null,
            "display": null,
            "flex": null,
            "flex_flow": null,
            "grid_area": null,
            "grid_auto_columns": null,
            "grid_auto_flow": null,
            "grid_auto_rows": null,
            "grid_column": null,
            "grid_gap": null,
            "grid_row": null,
            "grid_template_areas": null,
            "grid_template_columns": null,
            "grid_template_rows": null,
            "height": null,
            "justify_content": null,
            "justify_items": null,
            "left": null,
            "margin": null,
            "max_height": null,
            "max_width": null,
            "min_height": null,
            "min_width": null,
            "object_fit": null,
            "object_position": null,
            "order": null,
            "overflow": null,
            "overflow_x": null,
            "overflow_y": null,
            "padding": null,
            "right": null,
            "top": null,
            "visibility": null,
            "width": null
          }
        },
        "1aed671ca7d44fa0afc4f85d0ed440ba": {
          "model_module": "@jupyter-widgets/base",
          "model_name": "LayoutModel",
          "model_module_version": "1.2.0",
          "state": {
            "_model_module": "@jupyter-widgets/base",
            "_model_module_version": "1.2.0",
            "_model_name": "LayoutModel",
            "_view_count": null,
            "_view_module": "@jupyter-widgets/base",
            "_view_module_version": "1.2.0",
            "_view_name": "LayoutView",
            "align_content": null,
            "align_items": null,
            "align_self": null,
            "border": null,
            "bottom": null,
            "display": null,
            "flex": null,
            "flex_flow": null,
            "grid_area": null,
            "grid_auto_columns": null,
            "grid_auto_flow": null,
            "grid_auto_rows": null,
            "grid_column": null,
            "grid_gap": null,
            "grid_row": null,
            "grid_template_areas": null,
            "grid_template_columns": null,
            "grid_template_rows": null,
            "height": null,
            "justify_content": null,
            "justify_items": null,
            "left": null,
            "margin": null,
            "max_height": null,
            "max_width": null,
            "min_height": null,
            "min_width": null,
            "object_fit": null,
            "object_position": null,
            "order": null,
            "overflow": null,
            "overflow_x": null,
            "overflow_y": null,
            "padding": null,
            "right": null,
            "top": null,
            "visibility": null,
            "width": null
          }
        },
        "1cca9486ac7a495d9c7bda00c1895b1a": {
          "model_module": "@jupyter-widgets/controls",
          "model_name": "DescriptionStyleModel",
          "model_module_version": "1.5.0",
          "state": {
            "_model_module": "@jupyter-widgets/controls",
            "_model_module_version": "1.5.0",
            "_model_name": "DescriptionStyleModel",
            "_view_count": null,
            "_view_module": "@jupyter-widgets/base",
            "_view_module_version": "1.2.0",
            "_view_name": "StyleView",
            "description_width": ""
          }
        },
        "115d65cb527545eba6a90616b2679339": {
          "model_module": "@jupyter-widgets/base",
          "model_name": "LayoutModel",
          "model_module_version": "1.2.0",
          "state": {
            "_model_module": "@jupyter-widgets/base",
            "_model_module_version": "1.2.0",
            "_model_name": "LayoutModel",
            "_view_count": null,
            "_view_module": "@jupyter-widgets/base",
            "_view_module_version": "1.2.0",
            "_view_name": "LayoutView",
            "align_content": null,
            "align_items": null,
            "align_self": null,
            "border": null,
            "bottom": null,
            "display": null,
            "flex": null,
            "flex_flow": null,
            "grid_area": null,
            "grid_auto_columns": null,
            "grid_auto_flow": null,
            "grid_auto_rows": null,
            "grid_column": null,
            "grid_gap": null,
            "grid_row": null,
            "grid_template_areas": null,
            "grid_template_columns": null,
            "grid_template_rows": null,
            "height": null,
            "justify_content": null,
            "justify_items": null,
            "left": null,
            "margin": null,
            "max_height": null,
            "max_width": null,
            "min_height": null,
            "min_width": null,
            "object_fit": null,
            "object_position": null,
            "order": null,
            "overflow": null,
            "overflow_x": null,
            "overflow_y": null,
            "padding": null,
            "right": null,
            "top": null,
            "visibility": null,
            "width": null
          }
        },
        "58bd2ffbe9874c919a70805a62e04849": {
          "model_module": "@jupyter-widgets/controls",
          "model_name": "ProgressStyleModel",
          "model_module_version": "1.5.0",
          "state": {
            "_model_module": "@jupyter-widgets/controls",
            "_model_module_version": "1.5.0",
            "_model_name": "ProgressStyleModel",
            "_view_count": null,
            "_view_module": "@jupyter-widgets/base",
            "_view_module_version": "1.2.0",
            "_view_name": "StyleView",
            "bar_color": null,
            "description_width": ""
          }
        },
        "8000b583fa2b4da3bb44562ddc4d5671": {
          "model_module": "@jupyter-widgets/base",
          "model_name": "LayoutModel",
          "model_module_version": "1.2.0",
          "state": {
            "_model_module": "@jupyter-widgets/base",
            "_model_module_version": "1.2.0",
            "_model_name": "LayoutModel",
            "_view_count": null,
            "_view_module": "@jupyter-widgets/base",
            "_view_module_version": "1.2.0",
            "_view_name": "LayoutView",
            "align_content": null,
            "align_items": null,
            "align_self": null,
            "border": null,
            "bottom": null,
            "display": null,
            "flex": null,
            "flex_flow": null,
            "grid_area": null,
            "grid_auto_columns": null,
            "grid_auto_flow": null,
            "grid_auto_rows": null,
            "grid_column": null,
            "grid_gap": null,
            "grid_row": null,
            "grid_template_areas": null,
            "grid_template_columns": null,
            "grid_template_rows": null,
            "height": null,
            "justify_content": null,
            "justify_items": null,
            "left": null,
            "margin": null,
            "max_height": null,
            "max_width": null,
            "min_height": null,
            "min_width": null,
            "object_fit": null,
            "object_position": null,
            "order": null,
            "overflow": null,
            "overflow_x": null,
            "overflow_y": null,
            "padding": null,
            "right": null,
            "top": null,
            "visibility": null,
            "width": null
          }
        },
        "92f47d03bd5b4662ae03b0179434b21b": {
          "model_module": "@jupyter-widgets/controls",
          "model_name": "DescriptionStyleModel",
          "model_module_version": "1.5.0",
          "state": {
            "_model_module": "@jupyter-widgets/controls",
            "_model_module_version": "1.5.0",
            "_model_name": "DescriptionStyleModel",
            "_view_count": null,
            "_view_module": "@jupyter-widgets/base",
            "_view_module_version": "1.2.0",
            "_view_name": "StyleView",
            "description_width": ""
          }
        },
        "1507c3c647f8412a807f43c44e7cf1ea": {
          "model_module": "@jupyter-widgets/controls",
          "model_name": "HBoxModel",
          "model_module_version": "1.5.0",
          "state": {
            "_dom_classes": [],
            "_model_module": "@jupyter-widgets/controls",
            "_model_module_version": "1.5.0",
            "_model_name": "HBoxModel",
            "_view_count": null,
            "_view_module": "@jupyter-widgets/controls",
            "_view_module_version": "1.5.0",
            "_view_name": "HBoxView",
            "box_style": "",
            "children": [
              "IPY_MODEL_a486a44d7c494b3bb897b95623a831b9",
              "IPY_MODEL_e044d27a5bc84f3b995b3451ba4b0118",
              "IPY_MODEL_ef951586c0e549509706629f7aa3c645"
            ],
            "layout": "IPY_MODEL_4ce23aa710654a4495cf1d6fa03129c2"
          }
        },
        "a486a44d7c494b3bb897b95623a831b9": {
          "model_module": "@jupyter-widgets/controls",
          "model_name": "HTMLModel",
          "model_module_version": "1.5.0",
          "state": {
            "_dom_classes": [],
            "_model_module": "@jupyter-widgets/controls",
            "_model_module_version": "1.5.0",
            "_model_name": "HTMLModel",
            "_view_count": null,
            "_view_module": "@jupyter-widgets/controls",
            "_view_module_version": "1.5.0",
            "_view_name": "HTMLView",
            "description": "",
            "description_tooltip": null,
            "layout": "IPY_MODEL_5249af3e59674a309ba9ad26e45f18d6",
            "placeholder": "​",
            "style": "IPY_MODEL_50991a0bd9e64329aed0db445942d8c2",
            "value": "100%"
          }
        },
        "e044d27a5bc84f3b995b3451ba4b0118": {
          "model_module": "@jupyter-widgets/controls",
          "model_name": "FloatProgressModel",
          "model_module_version": "1.5.0",
          "state": {
            "_dom_classes": [],
            "_model_module": "@jupyter-widgets/controls",
            "_model_module_version": "1.5.0",
            "_model_name": "FloatProgressModel",
            "_view_count": null,
            "_view_module": "@jupyter-widgets/controls",
            "_view_module_version": "1.5.0",
            "_view_name": "ProgressView",
            "bar_style": "success",
            "description": "",
            "description_tooltip": null,
            "layout": "IPY_MODEL_74455dc383d24fdd9758a8a4f09ca7f7",
            "max": 5,
            "min": 0,
            "orientation": "horizontal",
            "style": "IPY_MODEL_8388f6fd87d54994968503f6aded1589",
            "value": 5
          }
        },
        "ef951586c0e549509706629f7aa3c645": {
          "model_module": "@jupyter-widgets/controls",
          "model_name": "HTMLModel",
          "model_module_version": "1.5.0",
          "state": {
            "_dom_classes": [],
            "_model_module": "@jupyter-widgets/controls",
            "_model_module_version": "1.5.0",
            "_model_name": "HTMLModel",
            "_view_count": null,
            "_view_module": "@jupyter-widgets/controls",
            "_view_module_version": "1.5.0",
            "_view_name": "HTMLView",
            "description": "",
            "description_tooltip": null,
            "layout": "IPY_MODEL_5f7797fd88a249f9a6585bc19b60cab9",
            "placeholder": "​",
            "style": "IPY_MODEL_2fe8da5b3bb14376861dc3de9f2aa28b",
            "value": " 5/5 [17:03&lt;00:00, 201.75s/it]"
          }
        },
        "4ce23aa710654a4495cf1d6fa03129c2": {
          "model_module": "@jupyter-widgets/base",
          "model_name": "LayoutModel",
          "model_module_version": "1.2.0",
          "state": {
            "_model_module": "@jupyter-widgets/base",
            "_model_module_version": "1.2.0",
            "_model_name": "LayoutModel",
            "_view_count": null,
            "_view_module": "@jupyter-widgets/base",
            "_view_module_version": "1.2.0",
            "_view_name": "LayoutView",
            "align_content": null,
            "align_items": null,
            "align_self": null,
            "border": null,
            "bottom": null,
            "display": null,
            "flex": null,
            "flex_flow": null,
            "grid_area": null,
            "grid_auto_columns": null,
            "grid_auto_flow": null,
            "grid_auto_rows": null,
            "grid_column": null,
            "grid_gap": null,
            "grid_row": null,
            "grid_template_areas": null,
            "grid_template_columns": null,
            "grid_template_rows": null,
            "height": null,
            "justify_content": null,
            "justify_items": null,
            "left": null,
            "margin": null,
            "max_height": null,
            "max_width": null,
            "min_height": null,
            "min_width": null,
            "object_fit": null,
            "object_position": null,
            "order": null,
            "overflow": null,
            "overflow_x": null,
            "overflow_y": null,
            "padding": null,
            "right": null,
            "top": null,
            "visibility": null,
            "width": null
          }
        },
        "5249af3e59674a309ba9ad26e45f18d6": {
          "model_module": "@jupyter-widgets/base",
          "model_name": "LayoutModel",
          "model_module_version": "1.2.0",
          "state": {
            "_model_module": "@jupyter-widgets/base",
            "_model_module_version": "1.2.0",
            "_model_name": "LayoutModel",
            "_view_count": null,
            "_view_module": "@jupyter-widgets/base",
            "_view_module_version": "1.2.0",
            "_view_name": "LayoutView",
            "align_content": null,
            "align_items": null,
            "align_self": null,
            "border": null,
            "bottom": null,
            "display": null,
            "flex": null,
            "flex_flow": null,
            "grid_area": null,
            "grid_auto_columns": null,
            "grid_auto_flow": null,
            "grid_auto_rows": null,
            "grid_column": null,
            "grid_gap": null,
            "grid_row": null,
            "grid_template_areas": null,
            "grid_template_columns": null,
            "grid_template_rows": null,
            "height": null,
            "justify_content": null,
            "justify_items": null,
            "left": null,
            "margin": null,
            "max_height": null,
            "max_width": null,
            "min_height": null,
            "min_width": null,
            "object_fit": null,
            "object_position": null,
            "order": null,
            "overflow": null,
            "overflow_x": null,
            "overflow_y": null,
            "padding": null,
            "right": null,
            "top": null,
            "visibility": null,
            "width": null
          }
        },
        "50991a0bd9e64329aed0db445942d8c2": {
          "model_module": "@jupyter-widgets/controls",
          "model_name": "DescriptionStyleModel",
          "model_module_version": "1.5.0",
          "state": {
            "_model_module": "@jupyter-widgets/controls",
            "_model_module_version": "1.5.0",
            "_model_name": "DescriptionStyleModel",
            "_view_count": null,
            "_view_module": "@jupyter-widgets/base",
            "_view_module_version": "1.2.0",
            "_view_name": "StyleView",
            "description_width": ""
          }
        },
        "74455dc383d24fdd9758a8a4f09ca7f7": {
          "model_module": "@jupyter-widgets/base",
          "model_name": "LayoutModel",
          "model_module_version": "1.2.0",
          "state": {
            "_model_module": "@jupyter-widgets/base",
            "_model_module_version": "1.2.0",
            "_model_name": "LayoutModel",
            "_view_count": null,
            "_view_module": "@jupyter-widgets/base",
            "_view_module_version": "1.2.0",
            "_view_name": "LayoutView",
            "align_content": null,
            "align_items": null,
            "align_self": null,
            "border": null,
            "bottom": null,
            "display": null,
            "flex": null,
            "flex_flow": null,
            "grid_area": null,
            "grid_auto_columns": null,
            "grid_auto_flow": null,
            "grid_auto_rows": null,
            "grid_column": null,
            "grid_gap": null,
            "grid_row": null,
            "grid_template_areas": null,
            "grid_template_columns": null,
            "grid_template_rows": null,
            "height": null,
            "justify_content": null,
            "justify_items": null,
            "left": null,
            "margin": null,
            "max_height": null,
            "max_width": null,
            "min_height": null,
            "min_width": null,
            "object_fit": null,
            "object_position": null,
            "order": null,
            "overflow": null,
            "overflow_x": null,
            "overflow_y": null,
            "padding": null,
            "right": null,
            "top": null,
            "visibility": null,
            "width": null
          }
        },
        "8388f6fd87d54994968503f6aded1589": {
          "model_module": "@jupyter-widgets/controls",
          "model_name": "ProgressStyleModel",
          "model_module_version": "1.5.0",
          "state": {
            "_model_module": "@jupyter-widgets/controls",
            "_model_module_version": "1.5.0",
            "_model_name": "ProgressStyleModel",
            "_view_count": null,
            "_view_module": "@jupyter-widgets/base",
            "_view_module_version": "1.2.0",
            "_view_name": "StyleView",
            "bar_color": null,
            "description_width": ""
          }
        },
        "5f7797fd88a249f9a6585bc19b60cab9": {
          "model_module": "@jupyter-widgets/base",
          "model_name": "LayoutModel",
          "model_module_version": "1.2.0",
          "state": {
            "_model_module": "@jupyter-widgets/base",
            "_model_module_version": "1.2.0",
            "_model_name": "LayoutModel",
            "_view_count": null,
            "_view_module": "@jupyter-widgets/base",
            "_view_module_version": "1.2.0",
            "_view_name": "LayoutView",
            "align_content": null,
            "align_items": null,
            "align_self": null,
            "border": null,
            "bottom": null,
            "display": null,
            "flex": null,
            "flex_flow": null,
            "grid_area": null,
            "grid_auto_columns": null,
            "grid_auto_flow": null,
            "grid_auto_rows": null,
            "grid_column": null,
            "grid_gap": null,
            "grid_row": null,
            "grid_template_areas": null,
            "grid_template_columns": null,
            "grid_template_rows": null,
            "height": null,
            "justify_content": null,
            "justify_items": null,
            "left": null,
            "margin": null,
            "max_height": null,
            "max_width": null,
            "min_height": null,
            "min_width": null,
            "object_fit": null,
            "object_position": null,
            "order": null,
            "overflow": null,
            "overflow_x": null,
            "overflow_y": null,
            "padding": null,
            "right": null,
            "top": null,
            "visibility": null,
            "width": null
          }
        },
        "2fe8da5b3bb14376861dc3de9f2aa28b": {
          "model_module": "@jupyter-widgets/controls",
          "model_name": "DescriptionStyleModel",
          "model_module_version": "1.5.0",
          "state": {
            "_model_module": "@jupyter-widgets/controls",
            "_model_module_version": "1.5.0",
            "_model_name": "DescriptionStyleModel",
            "_view_count": null,
            "_view_module": "@jupyter-widgets/base",
            "_view_module_version": "1.2.0",
            "_view_name": "StyleView",
            "description_width": ""
          }
        },
        "4c5effe9091044569b711872ff2ca6fc": {
          "model_module": "@jupyter-widgets/controls",
          "model_name": "HBoxModel",
          "model_module_version": "1.5.0",
          "state": {
            "_dom_classes": [],
            "_model_module": "@jupyter-widgets/controls",
            "_model_module_version": "1.5.0",
            "_model_name": "HBoxModel",
            "_view_count": null,
            "_view_module": "@jupyter-widgets/controls",
            "_view_module_version": "1.5.0",
            "_view_name": "HBoxView",
            "box_style": "",
            "children": [
              "IPY_MODEL_2a2b0883246e42eb944ae3c086bcd652",
              "IPY_MODEL_0a2388f847aa4ed08026ddd656d85e28",
              "IPY_MODEL_2ed03da459fa4526aaa7885a08e7b848"
            ],
            "layout": "IPY_MODEL_ae1d73627c754f83863884f5acf30aa2"
          }
        },
        "2a2b0883246e42eb944ae3c086bcd652": {
          "model_module": "@jupyter-widgets/controls",
          "model_name": "HTMLModel",
          "model_module_version": "1.5.0",
          "state": {
            "_dom_classes": [],
            "_model_module": "@jupyter-widgets/controls",
            "_model_module_version": "1.5.0",
            "_model_name": "HTMLModel",
            "_view_count": null,
            "_view_module": "@jupyter-widgets/controls",
            "_view_module_version": "1.5.0",
            "_view_name": "HTMLView",
            "description": "",
            "description_tooltip": null,
            "layout": "IPY_MODEL_9e9115568d394c99b21559c37041109b",
            "placeholder": "​",
            "style": "IPY_MODEL_f1ff1cb06881486cb3c4f74cef79844e",
            "value": "100%"
          }
        },
        "0a2388f847aa4ed08026ddd656d85e28": {
          "model_module": "@jupyter-widgets/controls",
          "model_name": "FloatProgressModel",
          "model_module_version": "1.5.0",
          "state": {
            "_dom_classes": [],
            "_model_module": "@jupyter-widgets/controls",
            "_model_module_version": "1.5.0",
            "_model_name": "FloatProgressModel",
            "_view_count": null,
            "_view_module": "@jupyter-widgets/controls",
            "_view_module_version": "1.5.0",
            "_view_name": "ProgressView",
            "bar_style": "success",
            "description": "",
            "description_tooltip": null,
            "layout": "IPY_MODEL_76b82b43f97f441d8f671d43d0a24aa9",
            "max": 158,
            "min": 0,
            "orientation": "horizontal",
            "style": "IPY_MODEL_84780a6d81ea4d829b6f0728c6c12f23",
            "value": 158
          }
        },
        "2ed03da459fa4526aaa7885a08e7b848": {
          "model_module": "@jupyter-widgets/controls",
          "model_name": "HTMLModel",
          "model_module_version": "1.5.0",
          "state": {
            "_dom_classes": [],
            "_model_module": "@jupyter-widgets/controls",
            "_model_module_version": "1.5.0",
            "_model_name": "HTMLModel",
            "_view_count": null,
            "_view_module": "@jupyter-widgets/controls",
            "_view_module_version": "1.5.0",
            "_view_name": "HTMLView",
            "description": "",
            "description_tooltip": null,
            "layout": "IPY_MODEL_9985eb460c2545d8bfcae85e462c32bd",
            "placeholder": "​",
            "style": "IPY_MODEL_6f19f324e64442cc8ab51f59ab31e25b",
            "value": " 158/158 [00:49&lt;00:00,  3.35it/s]"
          }
        },
        "ae1d73627c754f83863884f5acf30aa2": {
          "model_module": "@jupyter-widgets/base",
          "model_name": "LayoutModel",
          "model_module_version": "1.2.0",
          "state": {
            "_model_module": "@jupyter-widgets/base",
            "_model_module_version": "1.2.0",
            "_model_name": "LayoutModel",
            "_view_count": null,
            "_view_module": "@jupyter-widgets/base",
            "_view_module_version": "1.2.0",
            "_view_name": "LayoutView",
            "align_content": null,
            "align_items": null,
            "align_self": null,
            "border": null,
            "bottom": null,
            "display": null,
            "flex": null,
            "flex_flow": null,
            "grid_area": null,
            "grid_auto_columns": null,
            "grid_auto_flow": null,
            "grid_auto_rows": null,
            "grid_column": null,
            "grid_gap": null,
            "grid_row": null,
            "grid_template_areas": null,
            "grid_template_columns": null,
            "grid_template_rows": null,
            "height": null,
            "justify_content": null,
            "justify_items": null,
            "left": null,
            "margin": null,
            "max_height": null,
            "max_width": null,
            "min_height": null,
            "min_width": null,
            "object_fit": null,
            "object_position": null,
            "order": null,
            "overflow": null,
            "overflow_x": null,
            "overflow_y": null,
            "padding": null,
            "right": null,
            "top": null,
            "visibility": null,
            "width": null
          }
        },
        "9e9115568d394c99b21559c37041109b": {
          "model_module": "@jupyter-widgets/base",
          "model_name": "LayoutModel",
          "model_module_version": "1.2.0",
          "state": {
            "_model_module": "@jupyter-widgets/base",
            "_model_module_version": "1.2.0",
            "_model_name": "LayoutModel",
            "_view_count": null,
            "_view_module": "@jupyter-widgets/base",
            "_view_module_version": "1.2.0",
            "_view_name": "LayoutView",
            "align_content": null,
            "align_items": null,
            "align_self": null,
            "border": null,
            "bottom": null,
            "display": null,
            "flex": null,
            "flex_flow": null,
            "grid_area": null,
            "grid_auto_columns": null,
            "grid_auto_flow": null,
            "grid_auto_rows": null,
            "grid_column": null,
            "grid_gap": null,
            "grid_row": null,
            "grid_template_areas": null,
            "grid_template_columns": null,
            "grid_template_rows": null,
            "height": null,
            "justify_content": null,
            "justify_items": null,
            "left": null,
            "margin": null,
            "max_height": null,
            "max_width": null,
            "min_height": null,
            "min_width": null,
            "object_fit": null,
            "object_position": null,
            "order": null,
            "overflow": null,
            "overflow_x": null,
            "overflow_y": null,
            "padding": null,
            "right": null,
            "top": null,
            "visibility": null,
            "width": null
          }
        },
        "f1ff1cb06881486cb3c4f74cef79844e": {
          "model_module": "@jupyter-widgets/controls",
          "model_name": "DescriptionStyleModel",
          "model_module_version": "1.5.0",
          "state": {
            "_model_module": "@jupyter-widgets/controls",
            "_model_module_version": "1.5.0",
            "_model_name": "DescriptionStyleModel",
            "_view_count": null,
            "_view_module": "@jupyter-widgets/base",
            "_view_module_version": "1.2.0",
            "_view_name": "StyleView",
            "description_width": ""
          }
        },
        "76b82b43f97f441d8f671d43d0a24aa9": {
          "model_module": "@jupyter-widgets/base",
          "model_name": "LayoutModel",
          "model_module_version": "1.2.0",
          "state": {
            "_model_module": "@jupyter-widgets/base",
            "_model_module_version": "1.2.0",
            "_model_name": "LayoutModel",
            "_view_count": null,
            "_view_module": "@jupyter-widgets/base",
            "_view_module_version": "1.2.0",
            "_view_name": "LayoutView",
            "align_content": null,
            "align_items": null,
            "align_self": null,
            "border": null,
            "bottom": null,
            "display": null,
            "flex": null,
            "flex_flow": null,
            "grid_area": null,
            "grid_auto_columns": null,
            "grid_auto_flow": null,
            "grid_auto_rows": null,
            "grid_column": null,
            "grid_gap": null,
            "grid_row": null,
            "grid_template_areas": null,
            "grid_template_columns": null,
            "grid_template_rows": null,
            "height": null,
            "justify_content": null,
            "justify_items": null,
            "left": null,
            "margin": null,
            "max_height": null,
            "max_width": null,
            "min_height": null,
            "min_width": null,
            "object_fit": null,
            "object_position": null,
            "order": null,
            "overflow": null,
            "overflow_x": null,
            "overflow_y": null,
            "padding": null,
            "right": null,
            "top": null,
            "visibility": null,
            "width": null
          }
        },
        "84780a6d81ea4d829b6f0728c6c12f23": {
          "model_module": "@jupyter-widgets/controls",
          "model_name": "ProgressStyleModel",
          "model_module_version": "1.5.0",
          "state": {
            "_model_module": "@jupyter-widgets/controls",
            "_model_module_version": "1.5.0",
            "_model_name": "ProgressStyleModel",
            "_view_count": null,
            "_view_module": "@jupyter-widgets/base",
            "_view_module_version": "1.2.0",
            "_view_name": "StyleView",
            "bar_color": null,
            "description_width": ""
          }
        },
        "9985eb460c2545d8bfcae85e462c32bd": {
          "model_module": "@jupyter-widgets/base",
          "model_name": "LayoutModel",
          "model_module_version": "1.2.0",
          "state": {
            "_model_module": "@jupyter-widgets/base",
            "_model_module_version": "1.2.0",
            "_model_name": "LayoutModel",
            "_view_count": null,
            "_view_module": "@jupyter-widgets/base",
            "_view_module_version": "1.2.0",
            "_view_name": "LayoutView",
            "align_content": null,
            "align_items": null,
            "align_self": null,
            "border": null,
            "bottom": null,
            "display": null,
            "flex": null,
            "flex_flow": null,
            "grid_area": null,
            "grid_auto_columns": null,
            "grid_auto_flow": null,
            "grid_auto_rows": null,
            "grid_column": null,
            "grid_gap": null,
            "grid_row": null,
            "grid_template_areas": null,
            "grid_template_columns": null,
            "grid_template_rows": null,
            "height": null,
            "justify_content": null,
            "justify_items": null,
            "left": null,
            "margin": null,
            "max_height": null,
            "max_width": null,
            "min_height": null,
            "min_width": null,
            "object_fit": null,
            "object_position": null,
            "order": null,
            "overflow": null,
            "overflow_x": null,
            "overflow_y": null,
            "padding": null,
            "right": null,
            "top": null,
            "visibility": null,
            "width": null
          }
        },
        "6f19f324e64442cc8ab51f59ab31e25b": {
          "model_module": "@jupyter-widgets/controls",
          "model_name": "DescriptionStyleModel",
          "model_module_version": "1.5.0",
          "state": {
            "_model_module": "@jupyter-widgets/controls",
            "_model_module_version": "1.5.0",
            "_model_name": "DescriptionStyleModel",
            "_view_count": null,
            "_view_module": "@jupyter-widgets/base",
            "_view_module_version": "1.2.0",
            "_view_name": "StyleView",
            "description_width": ""
          }
        }
      }
    }
  },
  "cells": [
    {
      "cell_type": "markdown",
      "source": [
        "# 1.0 Introduction\n",
        "- Here in this notebook, we build a food vision app - powered by Deep Learning. This app will be deployed using Gradio to end users.\n",
        "- We experiment two state of the art models - ViT, and EfficientNet. In the spirit of transfer learning, we'll be able to do more with less.\n",
        "- Of the two models, will deploy the best of the two models (speed, size, and performance).\n",
        "\n",
        "*Let's get to work!!*"
      ],
      "metadata": {
        "id": "bmyIEELlj0RX"
      }
    },
    {
      "cell_type": "markdown",
      "source": [
        "##1.1 Import the libraries we need"
      ],
      "metadata": {
        "id": "46ntdlLDk4Z0"
      }
    },
    {
      "cell_type": "code",
      "source": [
        "# import torch\n",
        "# from torch import nn\n",
        "\n",
        "# from torchvision import datasets\n",
        "\n",
        "# #for path\n",
        "# from pathlib import Path\n"
      ],
      "metadata": {
        "id": "SrMibmRqkN4C"
      },
      "execution_count": null,
      "outputs": []
    },
    {
      "cell_type": "markdown",
      "source": [
        "## 1.2 Get the data we need"
      ],
      "metadata": {
        "id": "Gecy3R6klw9A"
      }
    },
    {
      "cell_type": "markdown",
      "source": [
        "### 1.2.1 Get the datasets"
      ],
      "metadata": {
        "id": "R-tSfG83t97p"
      }
    },
    {
      "cell_type": "code",
      "source": [
        "import torch\n",
        "from torchvision import datasets, transforms\n",
        "from torch.utils.data import Dataset\n",
        "\n",
        "\n",
        "from pathlib import Path\n",
        "from typing import Tuple\n",
        "\n",
        "DATA_DIR = \"data\"\n",
        "Path(DATA_DIR).mkdir(parents=True, exist_ok=True)\n",
        "def get_datasets(train_transform:transforms,\n",
        "                 test_transform:transforms) -> Tuple[Dataset, Dataset]:\n",
        "  train_ds = datasets.Food101(root=DATA_DIR,\n",
        "                              split='train',\n",
        "                              transform=train_transform,\n",
        "                              target_transform=None,\n",
        "                              download=True\n",
        "                              )\n",
        "  test_ds = datasets.Food101(root=DATA_DIR,\n",
        "                              split='test',\n",
        "                              transform=test_transform,\n",
        "                              target_transform=None,\n",
        "                              download=True\n",
        "                              )\n",
        "\n",
        "  return train_ds, test_ds"
      ],
      "metadata": {
        "id": "AkZe9gfFl7Sd"
      },
      "execution_count": null,
      "outputs": []
    },
    {
      "cell_type": "markdown",
      "source": [
        "### 1.2.2 Getting certain percentage of dataset\n",
        "- e.g 30% so as to get results faster, and experiment more efficiently, since we don't need to wait for our model to train on 100% of our data so as to know we are wrong"
      ],
      "metadata": {
        "id": "UBMAs6jXunrv"
      }
    },
    {
      "cell_type": "code",
      "source": [
        "import torch\n",
        "from torch.utils.data import Dataset, random_split\n",
        "from typing import Tuple\n",
        "\n",
        "def get_x_percent_data(train_dataset:Dataset,\n",
        "                       test_dataset:Dataset,\n",
        "                       percentage:float = 0.2) -> Tuple[Dataset, Dataset]:\n",
        "\n",
        "  \"\"\"\n",
        "  Function splits the dataset based on percentage argument\n",
        "\n",
        "  Args:\n",
        "    train_dataset(torch.utils.data.Dataset) : the training dataset\n",
        "    test_dataset(torch.utils.data.Dataset) : the test dataset\n",
        "    percetage(float): the random split value should be a decimal e.g. 0.2 for 20%\n",
        "\n",
        "  Returns:\n",
        "    train_ds(Dataset):the train split dataset\n",
        "    test_ds(Dataset): the test split dataset\n",
        "  \"\"\"\n",
        "\n",
        "  total_train_size = len(train_dataset)\n",
        "  subset_train_size = int(total_train_size * percentage)\n",
        "  print(f\"total_train_size: {total_train_size} | subset_train_size: {subset_train_size}\")\n",
        "\n",
        "  total_test_size = len(test_dataset)\n",
        "  subset_test_size = int(total_test_size * percentage)\n",
        "  print(f\"total_test_size: {total_test_size} | subset_train_size: {subset_test_size}\")\n",
        "\n",
        "  train_x_percent, _ = random_split(train_dataset, [subset_train_size, (total_train_size - subset_train_size)])\n",
        "  test_x_percent, _ = random_split(test_dataset, [subset_test_size, (total_test_size - subset_test_size)])\n",
        "\n",
        "\n",
        "  return train_x_percent, test_x_percent"
      ],
      "metadata": {
        "id": "UJMstw3cvhyo"
      },
      "execution_count": null,
      "outputs": []
    },
    {
      "cell_type": "markdown",
      "source": [
        "### 1.2.2 Get the dataloaders"
      ],
      "metadata": {
        "id": "w43Ws8fyuDzj"
      }
    },
    {
      "cell_type": "code",
      "source": [
        "from torch.utils.data import Dataset, DataLoader\n",
        "import os\n",
        "import torch\n",
        "def get_dataloaders(train_dataset: Dataset,\n",
        "                    test_dataset:Dataset,\n",
        "                    device:torch.device,\n",
        "                    batch_size: int=32):\n",
        "\n",
        "  \"\"\"\n",
        "  Returns\n",
        "    train_dataloader\n",
        "    test_dataloader\n",
        "  \"\"\"\n",
        "\n",
        "  train_data_loader = DataLoader(dataset=train_dataset,\n",
        "                                batch_size=batch_size,\n",
        "                                shuffle=True)\n",
        "  test_data_loader = DataLoader(dataset=test_dataset,\n",
        "                                batch_size=batch_size,\n",
        "                                shuffle=False)\n",
        "\n",
        "  return train_data_loader, test_data_loader\n",
        "\n"
      ],
      "metadata": {
        "id": "vgqCikKhnESU"
      },
      "execution_count": null,
      "outputs": []
    },
    {
      "cell_type": "markdown",
      "source": [
        "### 1.2.3 Set Data Agnostic code and Helper functions"
      ],
      "metadata": {
        "id": "2XqTkKQj2Re0"
      }
    },
    {
      "cell_type": "code",
      "source": [
        "import torch\n",
        "import random\n",
        "def get_device():\n",
        "  device = \"cuda\" if torch.cuda.is_available() else \"cpu\"\n",
        "  return device\n",
        "\n",
        "def accuracy_fn(y_pred:torch.Tensor, y_true:torch.Tensor):\n",
        "  correct = torch.eq(y_pred, y_true).sum().item()\n",
        "  acc = correct/len(y_pred)\n",
        "  return acc * 100\n",
        "\n",
        "def plot_sample_images(train_dataset, k=9):\n",
        "  class_names = train_dataset.classes\n",
        "  sample_images_indxs =random.sample(range(len(train_dataset)), k)\n",
        "\n",
        "\n",
        "  nrows = int(k / 3)\n",
        "  ncols = 3\n",
        "  figure =plt.figure(figsize=(8, 5))\n",
        "\n",
        "  for i, index in enumerate(sample_images_indxs):\n",
        "    figure.add_subplot(nrows, ncols, i+1)\n",
        "    img, label = train_dataset[index]\n",
        "    title = f\"Label: {class_names[label]}\"\n",
        "    plt.imshow(img.permute(1, 2, 0))\n",
        "    plt.title(title)\n",
        "    plt.axis(False)\n",
        "\n",
        "  plt.show()\n",
        "\n",
        "def plot_model_results(model_results):\n",
        "  \"\"\"\n",
        "  plot the model results\n",
        "  \"\"\"\n",
        "  fig = plt.figure(figsize=(12, 7)) # Corrected figsize to be a tuple\n",
        "  fig.add_subplot(1, 2, 1)\n",
        "  plt.suptitle(\"Training vs. Test\")\n",
        "  plt.plot(model_results[\"train_loss\"], label=\"Train\")\n",
        "  plt.plot(model_results[\"test_loss\"], label=\"Test\")\n",
        "  plt.legend()\n",
        "  # plt.axis(False) # Removed this line to show axes\n",
        "  plt.title(\"Train Loss vs. Test Loss\")\n",
        "  plt.xlabel(\"Epoch\")\n",
        "  plt.ylabel(\"Loss\")\n",
        "\n",
        "  fig.add_subplot(1, 2, 2)\n",
        "  plt.plot(model_results[\"train_acc\"], label=\"Train\")\n",
        "  plt.plot(model_results[\"test_acc\"], label=\"Test\")\n",
        "  plt.legend()\n",
        "  # plt.axis(False) # Removed this line to show axes\n",
        "  plt.title(\"Train Acc vs. Test Acc\")\n",
        "  plt.xlabel(\"Epoch\")\n",
        "  plt.ylabel(\"Acc\")\n",
        "  # plt.show() # Added plt.show() to display the figure\n",
        "  return plt"
      ],
      "metadata": {
        "id": "GUjlGlQr2XEb"
      },
      "execution_count": null,
      "outputs": []
    },
    {
      "cell_type": "markdown",
      "source": [
        "## 2.1 Building `train_model()` custom function"
      ],
      "metadata": {
        "id": "thjy0j2S2ysJ"
      }
    },
    {
      "cell_type": "code",
      "source": [
        "import torch\n",
        "from tqdm.auto import tqdm\n",
        "\n",
        "\n",
        "def train_step(model:torch.nn.Module,\n",
        "               dataloader:torch.utils.data.DataLoader,\n",
        "               loss_fn:torch.nn.Module,\n",
        "               optimizer:torch.optim.Optimizer,\n",
        "               accuracy_fn,\n",
        "               device:torch.device):\n",
        "\n",
        "  #using pytorch 2.0 `with device` context manager\n",
        "  # with torch.device(device):\n",
        "  model.to(device)\n",
        "\n",
        "  #turn model train mode\n",
        "  model.train()\n",
        "\n",
        "  #track training loss, and training acc\n",
        "  train_loss, train_acc = 0, 0\n",
        "  #iterate through the batches\n",
        "  for X_train, y_train in dataloader:\n",
        "    #perfrom a forward pass\n",
        "    X_train, y_train = X_train.to(device), y_train.to(device)\n",
        "    y_pred = model(X_train)\n",
        "\n",
        "    #evaluate loss\n",
        "    loss =loss_fn(y_pred, y_train)\n",
        "\n",
        "    #accumulate loss\n",
        "    train_loss += loss.item()\n",
        "\n",
        "    #accumulate accuracy\n",
        "    train_acc += accuracy_fn(y_pred.argmax(dim=1), y_train)\n",
        "\n",
        "    #zero grad\n",
        "    optimizer.zero_grad()\n",
        "\n",
        "    #perform backpropagation\n",
        "    loss.backward()\n",
        "\n",
        "    #optimize gradients\n",
        "    optimizer.step()\n",
        "\n",
        "    #average train_acc, and train_loss for all the batches\n",
        "  train_acc /= len(dataloader)\n",
        "  train_loss /= len(dataloader)\n",
        "\n",
        "\n",
        "  return train_loss, train_acc\n",
        "\n",
        "def test_step(model: torch.nn.Module,\n",
        "              dataloader:torch.utils.data.DataLoader,\n",
        "              loss_fn:torch.nn.Module,\n",
        "              accuracy_fn,\n",
        "              device:torch.device):\n",
        "\n",
        "  #within torch.device context manager\n",
        "  # with torch.device(device):\n",
        "  #turn inference mode\n",
        "  with torch.inference_mode():\n",
        "\n",
        "    #turn the model mode to eval\n",
        "    model.eval()\n",
        "\n",
        "    #track test loss, test acc\n",
        "    test_loss, test_acc = 0, 0\n",
        "\n",
        "    #batch loop\n",
        "    for X_test, y_test in dataloader:\n",
        "      #forward pass\n",
        "      X_test, y_test = X_test.to(device), y_test.to(device)\n",
        "      y_pred =  model(X_test)\n",
        "\n",
        "      #evaluate the loss\n",
        "      loss = loss_fn(y_pred, y_test)\n",
        "\n",
        "      #accumulate loss\n",
        "      test_loss += loss.item()\n",
        "\n",
        "      #accumulate accuracy\n",
        "      test_acc += accuracy_fn(y_pred.argmax(dim=1), y_test)\n",
        "\n",
        "\n",
        "    #average test loss and acc\n",
        "    test_loss /= len(dataloader)\n",
        "    test_acc /= len(dataloader)\n",
        "\n",
        "  return test_loss, test_acc\n",
        "\n",
        "# train model function\n",
        "def train_model(model:torch.nn.Module,\n",
        "                train_dataloader: torch.utils.data.DataLoader,\n",
        "                test_dataloader: torch.utils.data.DataLoader,\n",
        "                loss_fn:torch.nn.Module,\n",
        "                optimizer:torch.optim.Optimizer,\n",
        "                accuracy_fn,\n",
        "                device:torch.device,\n",
        "                epochs = 5\n",
        "                ):\n",
        "\n",
        "  #track model results\n",
        "  model_results = {\"train_loss\":[],\n",
        "                   \"train_acc\":[],\n",
        "                   \"test_loss\":[],\n",
        "                   \"test_acc\":[]\n",
        "                   }\n",
        "\n",
        "  #iterate through epochs\n",
        "  for epoch in tqdm(range(epochs)):\n",
        "    #perform train_step\n",
        "    train_loss, train_acc = train_step(model=model,\n",
        "                                       dataloader=train_dataloader,\n",
        "                                       loss_fn=loss_fn,\n",
        "                                       optimizer=optimizer,\n",
        "                                       accuracy_fn=accuracy_fn,\n",
        "                                       device=device)\n",
        "    #append the results\n",
        "    model_results[\"train_loss\"].append(train_loss)\n",
        "    model_results[\"train_acc\"].append(train_acc)\n",
        "\n",
        "    #perform test step\n",
        "    test_loss, test_acc = test_step(model=model,\n",
        "                                    dataloader=test_dataloader,\n",
        "                                    loss_fn=loss_fn,\n",
        "                                    accuracy_fn=accuracy_fn,\n",
        "                                    device=device)\n",
        "\n",
        "    #append the test results\n",
        "    model_results[\"test_loss\"].append(test_loss)\n",
        "    model_results[\"test_acc\"].append(test_acc)\n",
        "\n",
        "    print(f\"Epoch: {epoch} | Train loss: {train_loss:.4f} Train Acc: {train_acc:.2f} | Test Loss {test_loss:.4f} Test Acc: {test_acc:.2f}\")\n",
        "\n",
        "  return model_results\n"
      ],
      "metadata": {
        "id": "SH6VHczZ26Ap"
      },
      "execution_count": null,
      "outputs": []
    },
    {
      "cell_type": "markdown",
      "source": [
        "### 2.1.1 Building `model_eval()` function"
      ],
      "metadata": {
        "id": "4cCNjcrSyL9h"
      }
    },
    {
      "cell_type": "code",
      "source": [
        "def eval_model(model: torch.nn.Module,\n",
        "               test_data_loader: torch.utils.data.DataLoader,\n",
        "               loss_fn: torch.nn.Module,\n",
        "               accuracy_fn,\n",
        "               device:torch.device):\n",
        "  \"\"\"\n",
        "  Returns a dictionary containing the results model predicting on data loader\n",
        "  \"\"\"\n",
        "  loss, acc = 0, 0\n",
        "  batches_no = len(test_data_loader)\n",
        "  model.eval()\n",
        "  with torch.inference_mode():\n",
        "    for X, y in tqdm(test_data_loader):\n",
        "      #make predictions\n",
        "      X, y = X.to(device), y.to(device)\n",
        "\n",
        "      y_pred = model(X)\n",
        "\n",
        "      #accumulate loss and accuracy per batch\n",
        "      loss += loss_fn(y_pred, y)\n",
        "      acc += accuracy_fn(y, y_pred.argmax(dim=1))\n",
        "\n",
        "    #average loss and accuracy\n",
        "    loss /= batches_no\n",
        "    acc /= batches_no\n",
        "\n",
        "  return {\"model_name\": model.__class__.__name__,\n",
        "          \"model_loss\":loss.item(),\n",
        "          \"model_acc\":acc}"
      ],
      "metadata": {
        "id": "iMhgUABkyUtK"
      },
      "execution_count": null,
      "outputs": []
    },
    {
      "cell_type": "markdown",
      "source": [
        "# 3.0 Building our Models"
      ],
      "metadata": {
        "id": "XboHc93NCt56"
      }
    },
    {
      "cell_type": "markdown",
      "source": [
        "## 3.1 EfficientNet Model"
      ],
      "metadata": {
        "id": "J-mzOPiTCyoY"
      }
    },
    {
      "cell_type": "code",
      "source": [
        "\n",
        "import torch\n",
        "from torch import nn\n",
        "from torchvision.models import efficientnet_v2_s, EfficientNet_V2_S_Weights\n",
        "\n",
        "def createEffNetModel(device:torch.device):\n",
        "  # with torch.device(device):\n",
        "  #number of classes\n",
        "  number_of_classes = 101\n",
        "\n",
        "  #get the pretrained weights\n",
        "  weights = EfficientNet_V2_S_Weights.DEFAULT\n",
        "\n",
        "  #get the transforms used for the pre-trained model\n",
        "  effNetTransforms = weights.transforms()\n",
        "  #instantiate the model with the pre-trained weights\n",
        "  model = efficientnet_v2_s(weights=weights)\n",
        "\n",
        "  #freeze the weights of the feature extraction layers\n",
        "  for param in model.features.parameters():\n",
        "    param.requires_grad = False\n",
        "\n",
        "  #adjust the classification head to have only 101 classes instead of 1000\n",
        "  model.classifier = nn.Sequential(\n",
        "      nn.Dropout(p=0.2, inplace=True),\n",
        "      nn.Linear(in_features=1280, out_features=number_of_classes)\n",
        "  )\n",
        "\n",
        "  return effNetTransforms, model"
      ],
      "metadata": {
        "id": "fUUPJkGaC4Hk"
      },
      "execution_count": null,
      "outputs": []
    },
    {
      "cell_type": "code",
      "source": [
        "effNet_transforms, effNetModel = createEffNetModel(device=get_device())\n",
        "effNet_transforms"
      ],
      "metadata": {
        "colab": {
          "base_uri": "https://localhost:8080/"
        },
        "id": "InYj2JP5LfnC",
        "outputId": "c7bd6dd1-eeba-4233-8be7-d1bcf2bad78d"
      },
      "execution_count": null,
      "outputs": [
        {
          "output_type": "execute_result",
          "data": {
            "text/plain": [
              "ImageClassification(\n",
              "    crop_size=[384]\n",
              "    resize_size=[384]\n",
              "    mean=[0.485, 0.456, 0.406]\n",
              "    std=[0.229, 0.224, 0.225]\n",
              "    interpolation=InterpolationMode.BILINEAR\n",
              ")"
            ]
          },
          "metadata": {},
          "execution_count": 19
        }
      ]
    },
    {
      "cell_type": "code",
      "source": [
        "effNet_transforms"
      ],
      "metadata": {
        "colab": {
          "base_uri": "https://localhost:8080/"
        },
        "id": "fGQ_BlZRbR9W",
        "outputId": "2113574d-e3f7-417d-ca24-5d2b41ad540f"
      },
      "execution_count": null,
      "outputs": [
        {
          "output_type": "execute_result",
          "data": {
            "text/plain": [
              "ImageClassification(\n",
              "    crop_size=[384]\n",
              "    resize_size=[384]\n",
              "    mean=[0.485, 0.456, 0.406]\n",
              "    std=[0.229, 0.224, 0.225]\n",
              "    interpolation=InterpolationMode.BILINEAR\n",
              ")"
            ]
          },
          "metadata": {},
          "execution_count": 21
        }
      ]
    },
    {
      "cell_type": "code",
      "source": [
        "import torch\n",
        "import matplotlib.pyplot as plt\n",
        "from PIL import Image\n",
        "try:\n",
        "  from torchinfo import summary\n",
        "except:\n",
        "  !pip install torchinfo\n",
        "  from torchinfo import summary\n",
        "\n",
        "# image_tensor = torch.randint(0, 255, size=[1, 3, 500, 500]) / 255\n",
        "# image_tensor.shape\n",
        "# plt.imshow(image_tensor.squeeze().permute(1, 2, 0))\n",
        "effnet_summary = summary(model=effNetModel, input_size=[1, 3, 500, 500])\n",
        "effNetModel.total_params = effnet_summary.total_params\n",
        "effNetModel.total_params"
      ],
      "metadata": {
        "colab": {
          "base_uri": "https://localhost:8080/"
        },
        "id": "-2Ff5rzaHBST",
        "outputId": "e549fcc9-ac5c-4f2f-eb03-9dfa38ea91d5"
      },
      "execution_count": null,
      "outputs": [
        {
          "output_type": "execute_result",
          "data": {
            "text/plain": [
              "20306869"
            ]
          },
          "metadata": {},
          "execution_count": 22
        }
      ]
    },
    {
      "cell_type": "code",
      "source": [
        "train_ds, test_ds = get_datasets(train_transform=effNet_transforms,\n",
        "                                    test_transform=effNet_transforms)\n"
      ],
      "metadata": {
        "id": "nz36euenSfwe"
      },
      "execution_count": null,
      "outputs": []
    },
    {
      "cell_type": "code",
      "source": [
        "train_ds, test_ds"
      ],
      "metadata": {
        "id": "4FIT94F4cUDW",
        "colab": {
          "base_uri": "https://localhost:8080/"
        },
        "outputId": "73898a7f-555d-4e9b-bdea-7f525ff4f934"
      },
      "execution_count": null,
      "outputs": [
        {
          "output_type": "execute_result",
          "data": {
            "text/plain": [
              "(Dataset Food101\n",
              "     Number of datapoints: 75750\n",
              "     Root location: data\n",
              "     split=train\n",
              "     StandardTransform\n",
              " Transform: ImageClassification(\n",
              "                crop_size=[384]\n",
              "                resize_size=[384]\n",
              "                mean=[0.485, 0.456, 0.406]\n",
              "                std=[0.229, 0.224, 0.225]\n",
              "                interpolation=InterpolationMode.BILINEAR\n",
              "            ),\n",
              " Dataset Food101\n",
              "     Number of datapoints: 25250\n",
              "     Root location: data\n",
              "     split=test\n",
              "     StandardTransform\n",
              " Transform: ImageClassification(\n",
              "                crop_size=[384]\n",
              "                resize_size=[384]\n",
              "                mean=[0.485, 0.456, 0.406]\n",
              "                std=[0.229, 0.224, 0.225]\n",
              "                interpolation=InterpolationMode.BILINEAR\n",
              "            ))"
            ]
          },
          "metadata": {},
          "execution_count": 27
        }
      ]
    },
    {
      "cell_type": "code",
      "source": [
        "#get 40% of the data\n",
        "train_ds_40_percent, test_ds_40_percent = get_x_percent_data(train_dataset=train_ds,\n",
        "                   test_dataset=test_ds,\n",
        "                   percentage=0.4)\n"
      ],
      "metadata": {
        "id": "AWrpZDKqTvHB",
        "colab": {
          "base_uri": "https://localhost:8080/"
        },
        "outputId": "fcac2182-35a2-4a92-c9d5-1f09cfd8ad9c"
      },
      "execution_count": null,
      "outputs": [
        {
          "output_type": "stream",
          "name": "stdout",
          "text": [
            "total_train_size: 75750 | subset_train_size: 30300\n",
            "total_test_size: 25250 | subset_train_size: 10100\n"
          ]
        }
      ]
    },
    {
      "cell_type": "code",
      "source": [
        "train_dataloader, test_dataloader = get_dataloaders(train_dataset=train_ds_40_percent,\n",
        "                                                      test_dataset=test_ds_40_percent,\n",
        "                                                      batch_size=256,\n",
        "                                                    device=get_device())\n",
        "train_dataloader, test_dataloader"
      ],
      "metadata": {
        "id": "kT6eQBIZcndc",
        "colab": {
          "base_uri": "https://localhost:8080/"
        },
        "outputId": "ab9e073f-64ec-4723-db81-6e1b3afe73b7"
      },
      "execution_count": null,
      "outputs": [
        {
          "output_type": "execute_result",
          "data": {
            "text/plain": [
              "(<torch.utils.data.dataloader.DataLoader at 0x7f383434a180>,\n",
              " <torch.utils.data.dataloader.DataLoader at 0x7f383434a1b0>)"
            ]
          },
          "metadata": {},
          "execution_count": 29
        }
      ]
    },
    {
      "cell_type": "code",
      "source": [
        "# imgs, labels = next(iter(train_dataloader))\n",
        "# imgs.shape, labels.shape\n",
        "# imgs.device"
      ],
      "metadata": {
        "id": "ZB90GzVlilX7"
      },
      "execution_count": null,
      "outputs": []
    },
    {
      "cell_type": "code",
      "source": [
        "imgs, labels = train_ds[0]\n",
        "imgs.shape, labels"
      ],
      "metadata": {
        "id": "FUH7g1jnpzc_",
        "colab": {
          "base_uri": "https://localhost:8080/"
        },
        "outputId": "d41e3335-6033-44d2-d476-9c29d18cbd97"
      },
      "execution_count": null,
      "outputs": [
        {
          "output_type": "execute_result",
          "data": {
            "text/plain": [
              "(torch.Size([3, 384, 384]), 23)"
            ]
          },
          "metadata": {},
          "execution_count": 34
        }
      ]
    },
    {
      "cell_type": "code",
      "source": [
        "next(iter(effNetModel.parameters())).device"
      ],
      "metadata": {
        "id": "Ev3b77knqrvB",
        "colab": {
          "base_uri": "https://localhost:8080/"
        },
        "outputId": "55499a78-db3c-43b9-d369-185d807515a3"
      },
      "execution_count": null,
      "outputs": [
        {
          "output_type": "execute_result",
          "data": {
            "text/plain": [
              "device(type='cuda', index=0)"
            ]
          },
          "metadata": {},
          "execution_count": 35
        }
      ]
    },
    {
      "cell_type": "markdown",
      "source": [
        "### 3.1.2 Visualize sample images"
      ],
      "metadata": {
        "id": "pGasfs6azFcg"
      }
    },
    {
      "cell_type": "code",
      "source": [
        "plot_sample_images(train_ds, 9)"
      ],
      "metadata": {
        "id": "s8wTuqHgzNP3",
        "colab": {
          "base_uri": "https://localhost:8080/",
          "height": 623
        },
        "outputId": "02567211-3bf0-4189-cf19-7d4ab84662ea"
      },
      "execution_count": null,
      "outputs": [
        {
          "output_type": "stream",
          "name": "stderr",
          "text": [
            "WARNING:matplotlib.image:Clipping input data to the valid range for imshow with RGB data ([0..1] for floats or [0..255] for integers). Got range [-2.117904..2.64].\n",
            "WARNING:matplotlib.image:Clipping input data to the valid range for imshow with RGB data ([0..1] for floats or [0..255] for integers). Got range [-2.117904..2.64].\n",
            "WARNING:matplotlib.image:Clipping input data to the valid range for imshow with RGB data ([0..1] for floats or [0..255] for integers). Got range [-1.9980307..2.64].\n",
            "WARNING:matplotlib.image:Clipping input data to the valid range for imshow with RGB data ([0..1] for floats or [0..255] for integers). Got range [-2.0357141..2.64].\n",
            "WARNING:matplotlib.image:Clipping input data to the valid range for imshow with RGB data ([0..1] for floats or [0..255] for integers). Got range [-2.117904..2.64].\n",
            "WARNING:matplotlib.image:Clipping input data to the valid range for imshow with RGB data ([0..1] for floats or [0..255] for integers). Got range [-2.0182073..2.64].\n",
            "WARNING:matplotlib.image:Clipping input data to the valid range for imshow with RGB data ([0..1] for floats or [0..255] for integers). Got range [-2.0322802..2.64].\n",
            "WARNING:matplotlib.image:Clipping input data to the valid range for imshow with RGB data ([0..1] for floats or [0..255] for integers). Got range [-2.0357141..2.343704].\n",
            "WARNING:matplotlib.image:Clipping input data to the valid range for imshow with RGB data ([0..1] for floats or [0..255] for integers). Got range [-1.8044444..2.3935575].\n"
          ]
        },
        {
          "output_type": "display_data",
          "data": {
            "text/plain": [
              "<Figure size 800x500 with 9 Axes>"
            ],
            "image/png": "[encoded data removed]"
          },
          "metadata": {}
        }
      ]
    },
    {
      "cell_type": "markdown",
      "source": [
        "## 3.2 Training EfficientNetV2 model"
      ],
      "metadata": {
        "id": "icDF_t__zYGB"
      }
    },
    {
      "cell_type": "code",
      "source": [
        "import torch\n",
        "\n",
        "loss_fn = torch.nn.CrossEntropyLoss()\n",
        "optimizer = torch.optim.Adam(params=effNetModel.classifier.parameters(), lr=1e-1)\n",
        "\n",
        "effNetModel.results = train_model(model=effNetModel,\n",
        "            train_dataloader=train_dataloader,\n",
        "            test_dataloader=test_dataloader,\n",
        "            loss_fn=loss_fn,\n",
        "            optimizer=optimizer,\n",
        "            accuracy_fn=accuracy_fn,\n",
        "            device=get_device(),\n",
        "            epochs=5)"
      ],
      "metadata": {
        "id": "HcInlGgBzn1I",
        "colab": {
          "base_uri": "https://localhost:8080/",
          "height": 137,
          "referenced_widgets": [
            "9ddb6c66b1894ed89e658abdf9cfff12",
            "194b2b5b170240b5abd9c8d3614b8bd0",
            "da26fbc63f164d5098c886462c79c053",
            "2b2fb2cc54e1405fa4a5bd069321e56c",
            "61f5a692c2b14ee5b9363c45fa75748b",
            "90ee1cd522f84ce89cfc2114173057c7",
            "07af2dc13fa143f985ec6344fc113303",
            "dd0cf86d61cf4cfe9405b8a0701d9a08",
            "30956ca96ec242a086791303419a07f5",
            "fc82b8bf51604837b6739645b6e282a4",
            "e81fb8e7426b455bb4aeb0e7077e1e18"
          ]
        },
        "outputId": "5e7f7a95-355e-4023-c484-209cfb74b6a9"
      },
      "execution_count": null,
      "outputs": [
        {
          "output_type": "display_data",
          "data": {
            "text/plain": [
              "  0%|          | 0/5 [00:00<?, ?it/s]"
            ],
            "application/vnd.jupyter.widget-view+json": {
              "version_major": 2,
              "version_minor": 0,
              "model_id": "9ddb6c66b1894ed89e658abdf9cfff12"
            }
          },
          "metadata": {}
        },
        {
          "output_type": "stream",
          "name": "stdout",
          "text": [
            "Epoch: 0 | Train loss: 8.8638 Train Acc: 38.67 | Test Loss 6.7018 Test Acc: 48.49\n",
            "Epoch: 1 | Train loss: 8.3127 Train Acc: 44.35 | Test Loss 6.7291 Test Acc: 50.44\n",
            "Epoch: 2 | Train loss: 8.3974 Train Acc: 45.99 | Test Loss 7.0236 Test Acc: 51.70\n",
            "Epoch: 3 | Train loss: 8.5575 Train Acc: 47.39 | Test Loss 7.4230 Test Acc: 52.27\n",
            "Epoch: 4 | Train loss: 8.7943 Train Acc: 48.42 | Test Loss 7.8719 Test Acc: 53.01\n"
          ]
        }
      ]
    },
    {
      "cell_type": "markdown",
      "source": [
        "### 3.2.1 Visualize loss and accuracy over epochs\n"
      ],
      "metadata": {
        "id": "mb7H7CE6xBB4"
      }
    },
    {
      "cell_type": "code",
      "source": [
        "from pathlib import Path\n",
        "from google.colab import files\n",
        "RES_DIR = Path(\"results\")\n",
        "RES_DIR.mkdir(parents=True, exist_ok=True)\n",
        "PLT_PATH = RES_DIR /\"effnet_model_training_results.png\"\n",
        "plt = plot_model_results(effNetModel.results)\n",
        "plt.savefig(PLT_PATH)\n",
        "\n",
        "\n",
        "files.download(PLT_PATH)\n",
        "\n",
        "\n"
      ],
      "metadata": {
        "id": "rQveCv0lxPyK",
        "colab": {
          "base_uri": "https://localhost:8080/",
          "height": 689
        },
        "outputId": "e599ed68-40ff-44f1-8fcb-c1f68246dca4"
      },
      "execution_count": null,
      "outputs": [
        {
          "output_type": "display_data",
          "data": {
            "text/plain": [
              "<IPython.core.display.Javascript object>"
            ],
            "application/javascript": [
              "\n",
              "    async function download(id, filename, size) {\n",
              "      if (!google.colab.kernel.accessAllowed) {\n",
              "        return;\n",
              "      }\n",
              "      const div = document.createElement('div');\n",
              "      const label = document.createElement('label');\n",
              "      label.textContent = `Downloading \"${filename}\": `;\n",
              "      div.appendChild(label);\n",
              "      const progress = document.createElement('progress');\n",
              "      progress.max = size;\n",
              "      div.appendChild(progress);\n",
              "      document.body.appendChild(div);\n",
              "\n",
              "      const buffers = [];\n",
              "      let downloaded = 0;\n",
              "\n",
              "      const channel = await google.colab.kernel.comms.open(id);\n",
              "      // Send a message to notify the kernel that we're ready.\n",
              "      channel.send({})\n",
              "\n",
              "      for await (const message of channel.messages) {\n",
              "        // Send a message to notify the kernel that we're ready.\n",
              "        channel.send({})\n",
              "        if (message.buffers) {\n",
              "          for (const buffer of message.buffers) {\n",
              "            buffers.push(buffer);\n",
              "            downloaded += buffer.byteLength;\n",
              "            progress.value = downloaded;\n",
              "          }\n",
              "        }\n",
              "      }\n",
              "      const blob = new Blob(buffers, {type: 'application/binary'});\n",
              "      const a = document.createElement('a');\n",
              "      a.href = window.URL.createObjectURL(blob);\n",
              "      a.download = filename;\n",
              "      div.appendChild(a);\n",
              "      a.click();\n",
              "      div.remove();\n",
              "    }\n",
              "  "
            ]
          },
          "metadata": {}
        },
        {
          "output_type": "display_data",
          "data": {
            "text/plain": [
              "<IPython.core.display.Javascript object>"
            ],
            "application/javascript": [
              "download(\"download_c8a17f75-5af4-4863-86f9-00bfb18ad0e6\", \"effnet_model_training_results.png\", 51153)"
            ]
          },
          "metadata": {}
        },
        {
          "output_type": "display_data",
          "data": {
            "text/plain": [
              "<Figure size 1200x700 with 2 Axes>"
            ],
            "image/png": "[encoded data removed]"
          },
          "metadata": {}
        }
      ]
    },
    {
      "cell_type": "markdown",
      "source": [
        "### 3.2.3 Evaluate Model"
      ],
      "metadata": {
        "id": "H9Kh0_mCxxD5"
      }
    },
    {
      "cell_type": "code",
      "source": [
        "eval_model(model=effNetModel,\n",
        "           test_data_loader=test_dataloader,\n",
        "           loss_fn=loss_fn,\n",
        "           accuracy_fn=accuracy_fn,\n",
        "           device=get_device())"
      ],
      "metadata": {
        "id": "tlf2bvIgx13Q",
        "colab": {
          "base_uri": "https://localhost:8080/",
          "height": 102,
          "referenced_widgets": [
            "1b3d93bd4f6847e185348627dd6ab8f4",
            "5696712cef2840fd9d0d8421fb972398",
            "e34eeaaddfb44d90b0f818f210d50a1c",
            "5603918a1ec24f9fbaeb800f93717eb6",
            "7b214a6b703a4b75a461a04bc000a33f",
            "1aed671ca7d44fa0afc4f85d0ed440ba",
            "1cca9486ac7a495d9c7bda00c1895b1a",
            "115d65cb527545eba6a90616b2679339",
            "58bd2ffbe9874c919a70805a62e04849",
            "8000b583fa2b4da3bb44562ddc4d5671",
            "92f47d03bd5b4662ae03b0179434b21b"
          ]
        },
        "outputId": "b31fd10c-6692-4d3e-b96a-1ece341e4658"
      },
      "execution_count": null,
      "outputs": [
        {
          "output_type": "display_data",
          "data": {
            "text/plain": [
              "  0%|          | 0/40 [00:00<?, ?it/s]"
            ],
            "application/vnd.jupyter.widget-view+json": {
              "version_major": 2,
              "version_minor": 0,
              "model_id": "1b3d93bd4f6847e185348627dd6ab8f4"
            }
          },
          "metadata": {}
        },
        {
          "output_type": "execute_result",
          "data": {
            "text/plain": [
              "{'model_name': 'EfficientNet',\n",
              " 'model_loss': 7.871920108795166,\n",
              " 'model_acc': 53.012526939655174}"
            ]
          },
          "metadata": {},
          "execution_count": 40
        }
      ]
    },
    {
      "cell_type": "markdown",
      "source": [
        "### 3.2.4 Save and download the Model"
      ],
      "metadata": {
        "id": "ZNn33w3fEW-F"
      }
    },
    {
      "cell_type": "code",
      "source": [
        "### Save Model\n",
        "from pathlib import Path\n",
        "from google.colab import files\n",
        "import torch\n",
        "\n",
        "MODELS_DIR = Path(\"models\")\n",
        "MODELS_DIR.mkdir(parents=True, exist_ok=True)\n",
        "MODEL_PATH = MODELS_DIR / \"effnet_model.pth\"\n",
        "torch.save(effNetModel.state_dict(),MODEL_PATH)\n",
        "\n",
        "files.download(MODEL_PATH)"
      ],
      "metadata": {
        "id": "1yubBIo4EY8F",
        "colab": {
          "base_uri": "https://localhost:8080/",
          "height": 17
        },
        "outputId": "cabd6f9d-d729-48f8-e773-b0e439f54054"
      },
      "execution_count": null,
      "outputs": [
        {
          "output_type": "display_data",
          "data": {
            "text/plain": [
              "<IPython.core.display.Javascript object>"
            ],
            "application/javascript": [
              "\n",
              "    async function download(id, filename, size) {\n",
              "      if (!google.colab.kernel.accessAllowed) {\n",
              "        return;\n",
              "      }\n",
              "      const div = document.createElement('div');\n",
              "      const label = document.createElement('label');\n",
              "      label.textContent = `Downloading \"${filename}\": `;\n",
              "      div.appendChild(label);\n",
              "      const progress = document.createElement('progress');\n",
              "      progress.max = size;\n",
              "      div.appendChild(progress);\n",
              "      document.body.appendChild(div);\n",
              "\n",
              "      const buffers = [];\n",
              "      let downloaded = 0;\n",
              "\n",
              "      const channel = await google.colab.kernel.comms.open(id);\n",
              "      // Send a message to notify the kernel that we're ready.\n",
              "      channel.send({})\n",
              "\n",
              "      for await (const message of channel.messages) {\n",
              "        // Send a message to notify the kernel that we're ready.\n",
              "        channel.send({})\n",
              "        if (message.buffers) {\n",
              "          for (const buffer of message.buffers) {\n",
              "            buffers.push(buffer);\n",
              "            downloaded += buffer.byteLength;\n",
              "            progress.value = downloaded;\n",
              "          }\n",
              "        }\n",
              "      }\n",
              "      const blob = new Blob(buffers, {type: 'application/binary'});\n",
              "      const a = document.createElement('a');\n",
              "      a.href = window.URL.createObjectURL(blob);\n",
              "      a.download = filename;\n",
              "      div.appendChild(a);\n",
              "      a.click();\n",
              "      div.remove();\n",
              "    }\n",
              "  "
            ]
          },
          "metadata": {}
        },
        {
          "output_type": "display_data",
          "data": {
            "text/plain": [
              "<IPython.core.display.Javascript object>"
            ],
            "application/javascript": [
              "download(\"download_000cb7ec-b364-488a-a097-baaeec279b53\", \"effnet_model.pth\", 82130823)"
            ]
          },
          "metadata": {}
        }
      ]
    },
    {
      "cell_type": "markdown",
      "source": [
        "## 4.0 Training ViT Model"
      ],
      "metadata": {
        "id": "nJRpAcmvy7bT"
      }
    },
    {
      "cell_type": "code",
      "source": [
        "import torch\n",
        "from torch import nn\n",
        "from torchvision.models import vit_b_32, ViT_B_32_Weights\n",
        "\n",
        "def createViTModel(device:torch.device):\n",
        "  # with torch.device(device):\n",
        "  #number of classes\n",
        "  number_of_classes = 101\n",
        "\n",
        "  #get the pretrained weights\n",
        "  weights = ViT_B_32_Weights.DEFAULT\n",
        "\n",
        "  #get the transforms used for the pre-trained model\n",
        "  vit_transforms = weights.transforms()\n",
        "  #instantiate the model with the pre-trained weights\n",
        "  model = vit_b_32(weights=weights)\n",
        "\n",
        "  #freeze the weights of the feature extraction layers\n",
        "  for param in model.parameters():\n",
        "    param.requires_grad = False\n",
        "\n",
        "  # #adjust the classification head to have only 101 classes instead of 1000\n",
        "  model.heads = nn.Sequential(\n",
        "      nn.Linear(in_features=768, out_features=number_of_classes)\n",
        "  )\n",
        "\n",
        "  model = torch.compile(model)\n",
        "\n",
        "  return vit_transforms, model"
      ],
      "metadata": {
        "id": "y6avbCMwzAxU"
      },
      "execution_count": null,
      "outputs": []
    },
    {
      "cell_type": "code",
      "source": [
        "transforms_pre_trained, vit_model = createViTModel(device=get_device())\n",
        "vit_model.heads\n",
        "transforms_pre_trained"
      ],
      "metadata": {
        "id": "yq5k-lWqz3mu",
        "colab": {
          "base_uri": "https://localhost:8080/"
        },
        "outputId": "8fa6d723-cd2d-4b0e-ccbb-bd587bbc6ba4"
      },
      "execution_count": null,
      "outputs": [
        {
          "output_type": "stream",
          "name": "stdout",
          "text": [
            "Downloading: \"https://download.pytorch.org/models/vit_b_32-d86f8d99.pth\" to /root/.cache/torch/hub/checkpoints/vit_b_32-d86f8d99.pth\n"
          ]
        },
        {
          "output_type": "stream",
          "name": "stderr",
          "text": [
            "100%|██████████| 337M/337M [00:01<00:00, 199MB/s]\n"
          ]
        },
        {
          "output_type": "execute_result",
          "data": {
            "text/plain": [
              "ImageClassification(\n",
              "    crop_size=[224]\n",
              "    resize_size=[256]\n",
              "    mean=[0.485, 0.456, 0.406]\n",
              "    std=[0.229, 0.224, 0.225]\n",
              "    interpolation=InterpolationMode.BILINEAR\n",
              ")"
            ]
          },
          "metadata": {},
          "execution_count": 43
        }
      ]
    },
    {
      "cell_type": "markdown",
      "source": [
        "### 4.1.1 Get datasets based on pretrained model transforms\n",
        "- We notice the ViT transformer is overfitting.\n",
        "1. we could trivial augumentation to reduce overfitting\n",
        "2. label smoothing to prevent overconfidence"
      ],
      "metadata": {
        "id": "wVUYvtZ11ir2"
      }
    },
    {
      "cell_type": "code",
      "source": [
        "#add augmentation\n",
        "from torchvision import transforms\n",
        "train_transforms_with_ag = transforms.Compose([\n",
        "    transforms.TrivialAugmentWide(num_magnitude_bins=31),\n",
        "    transforms_pre_trained]\n",
        ")\n",
        "train_ds, test_ds = get_datasets(train_transform=transforms_pre_trained,\n",
        "                                    test_transform=transforms_pre_trained)\n",
        "\n",
        "#get 20% of the data\n",
        "train_ds_40_percent, test_ds_40_percent = get_x_percent_data(train_dataset=train_ds,\n",
        "                                                            test_dataset=test_ds,\n",
        "                                                            percentage=0.4)"
      ],
      "metadata": {
        "id": "1IvcZoT_1gi-",
        "colab": {
          "base_uri": "https://localhost:8080/"
        },
        "outputId": "1b9b5ea5-3379-49dd-db9f-8a200d6306ff"
      },
      "execution_count": null,
      "outputs": [
        {
          "output_type": "stream",
          "name": "stdout",
          "text": [
            "total_train_size: 75750 | subset_train_size: 30300\n",
            "total_test_size: 25250 | subset_train_size: 10100\n"
          ]
        }
      ]
    },
    {
      "cell_type": "code",
      "source": [
        "train_dataloader, test_dataloader = get_dataloaders(train_dataset=train_ds_40_percent,\n",
        "                                                      test_dataset=test_ds_40_percent,\n",
        "                                                      batch_size=64,\n",
        "                                                    device=get_device())\n",
        "train_dataloader, test_dataloader"
      ],
      "metadata": {
        "id": "nJOa6LXT17Df",
        "colab": {
          "base_uri": "https://localhost:8080/"
        },
        "outputId": "0a5a6deb-0500-4433-8ad5-275d34d29390"
      },
      "execution_count": null,
      "outputs": [
        {
          "output_type": "execute_result",
          "data": {
            "text/plain": [
              "(<torch.utils.data.dataloader.DataLoader at 0x7f3834471430>,\n",
              " <torch.utils.data.dataloader.DataLoader at 0x7f3825f5f740>)"
            ]
          },
          "metadata": {},
          "execution_count": 45
        }
      ]
    },
    {
      "cell_type": "code",
      "source": [
        "next(iter(vit_model.parameters())).device"
      ],
      "metadata": {
        "id": "9Ca56MDp_Z20",
        "colab": {
          "base_uri": "https://localhost:8080/"
        },
        "outputId": "13821f42-049c-443b-f28e-fa9389edfc37"
      },
      "execution_count": null,
      "outputs": [
        {
          "output_type": "execute_result",
          "data": {
            "text/plain": [
              "device(type='cpu')"
            ]
          },
          "metadata": {},
          "execution_count": 46
        }
      ]
    },
    {
      "cell_type": "code",
      "source": [
        "import torch\n",
        "\n",
        "# Enable TensorFloat32 for potentially better performance on supported hardware\n",
        "torch.set_float32_matmul_precision('high')\n",
        "\n",
        "loss_fn = torch.nn.CrossEntropyLoss(label_smoothing=0.1)\n",
        "optimizer = torch.optim.Adam(params=vit_model.heads.parameters(), lr=1e-1)\n",
        "\n",
        "vit_model.results = train_model(model=vit_model,\n",
        "            train_dataloader=train_dataloader,\n",
        "            test_dataloader=test_dataloader,\n",
        "            loss_fn=loss_fn,\n",
        "            optimizer=optimizer,\n",
        "            accuracy_fn=accuracy_fn,\n",
        "            device=get_device(),\n",
        "            epochs=5)"
      ],
      "metadata": {
        "id": "MS1F2SUH2OME",
        "colab": {
          "base_uri": "https://localhost:8080/",
          "height": 137,
          "referenced_widgets": [
            "1507c3c647f8412a807f43c44e7cf1ea",
            "a486a44d7c494b3bb897b95623a831b9",
            "e044d27a5bc84f3b995b3451ba4b0118",
            "ef951586c0e549509706629f7aa3c645",
            "4ce23aa710654a4495cf1d6fa03129c2",
            "5249af3e59674a309ba9ad26e45f18d6",
            "50991a0bd9e64329aed0db445942d8c2",
            "74455dc383d24fdd9758a8a4f09ca7f7",
            "8388f6fd87d54994968503f6aded1589",
            "5f7797fd88a249f9a6585bc19b60cab9",
            "2fe8da5b3bb14376861dc3de9f2aa28b"
          ]
        },
        "outputId": "784e4d1e-fddf-4732-9caa-ca17d0057c58"
      },
      "execution_count": null,
      "outputs": [
        {
          "output_type": "display_data",
          "data": {
            "text/plain": [
              "  0%|          | 0/5 [00:00<?, ?it/s]"
            ],
            "application/vnd.jupyter.widget-view+json": {
              "version_major": 2,
              "version_minor": 0,
              "model_id": "1507c3c647f8412a807f43c44e7cf1ea"
            }
          },
          "metadata": {}
        },
        {
          "output_type": "stream",
          "name": "stdout",
          "text": [
            "Epoch: 0 | Train loss: 23.0791 Train Acc: 46.31 | Test Loss 24.2742 Test Acc: 46.71\n",
            "Epoch: 1 | Train loss: 22.1469 Train Acc: 50.40 | Test Loss 25.1165 Test Acc: 48.14\n",
            "Epoch: 2 | Train loss: 21.6836 Train Acc: 53.06 | Test Loss 26.0894 Test Acc: 47.71\n",
            "Epoch: 3 | Train loss: 21.4918 Train Acc: 54.80 | Test Loss 28.0259 Test Acc: 46.03\n",
            "Epoch: 4 | Train loss: 21.8557 Train Acc: 55.22 | Test Loss 28.1267 Test Acc: 47.54\n"
          ]
        }
      ]
    },
    {
      "cell_type": "markdown",
      "source": [
        "### 4.1.2 Visualize Loss, and Accuracy\n"
      ],
      "metadata": {
        "id": "hyA3scwlAcgL"
      }
    },
    {
      "cell_type": "code",
      "source": [
        "from pathlib import Path\n",
        "from google.colab import files\n",
        "RES_DIR = Path(\"results\")\n",
        "RES_DIR.mkdir(parents=True, exist_ok=True)\n",
        "PLT_PATH = RES_DIR /\"vit_model_training_results.png\"\n",
        "plt = plot_model_results(vit_model.results)\n",
        "plt.savefig(PLT_PATH)\n",
        "\n",
        "\n",
        "files.download(PLT_PATH)\n"
      ],
      "metadata": {
        "id": "I2kKY2eAArY-",
        "colab": {
          "base_uri": "https://localhost:8080/",
          "height": 689
        },
        "outputId": "8c1265b0-bb8f-4adc-ecc6-dd0c02bad75f"
      },
      "execution_count": null,
      "outputs": [
        {
          "output_type": "display_data",
          "data": {
            "text/plain": [
              "<IPython.core.display.Javascript object>"
            ],
            "application/javascript": [
              "\n",
              "    async function download(id, filename, size) {\n",
              "      if (!google.colab.kernel.accessAllowed) {\n",
              "        return;\n",
              "      }\n",
              "      const div = document.createElement('div');\n",
              "      const label = document.createElement('label');\n",
              "      label.textContent = `Downloading \"${filename}\": `;\n",
              "      div.appendChild(label);\n",
              "      const progress = document.createElement('progress');\n",
              "      progress.max = size;\n",
              "      div.appendChild(progress);\n",
              "      document.body.appendChild(div);\n",
              "\n",
              "      const buffers = [];\n",
              "      let downloaded = 0;\n",
              "\n",
              "      const channel = await google.colab.kernel.comms.open(id);\n",
              "      // Send a message to notify the kernel that we're ready.\n",
              "      channel.send({})\n",
              "\n",
              "      for await (const message of channel.messages) {\n",
              "        // Send a message to notify the kernel that we're ready.\n",
              "        channel.send({})\n",
              "        if (message.buffers) {\n",
              "          for (const buffer of message.buffers) {\n",
              "            buffers.push(buffer);\n",
              "            downloaded += buffer.byteLength;\n",
              "            progress.value = downloaded;\n",
              "          }\n",
              "        }\n",
              "      }\n",
              "      const blob = new Blob(buffers, {type: 'application/binary'});\n",
              "      const a = document.createElement('a');\n",
              "      a.href = window.URL.createObjectURL(blob);\n",
              "      a.download = filename;\n",
              "      div.appendChild(a);\n",
              "      a.click();\n",
              "      div.remove();\n",
              "    }\n",
              "  "
            ]
          },
          "metadata": {}
        },
        {
          "output_type": "display_data",
          "data": {
            "text/plain": [
              "<IPython.core.display.Javascript object>"
            ],
            "application/javascript": [
              "download(\"download_ca176839-0009-4d68-a4f9-f809e77a5563\", \"vit_model_training_results.png\", 54257)"
            ]
          },
          "metadata": {}
        },
        {
          "output_type": "display_data",
          "data": {
            "text/plain": [
              "<Figure size 1200x700 with 2 Axes>"
            ],
            "image/png": "[encoded data removed]"
          },
          "metadata": {}
        }
      ]
    },
    {
      "cell_type": "markdown",
      "source": [
        "###4.1.3 Evaluate Model Accuracy\n"
      ],
      "metadata": {
        "id": "u0kK9wFbAsFi"
      }
    },
    {
      "cell_type": "code",
      "source": [
        "eval_model(model=vit_model,\n",
        "           test_data_loader=test_dataloader,\n",
        "           loss_fn=loss_fn,\n",
        "           accuracy_fn=accuracy_fn,\n",
        "           device=get_device())"
      ],
      "metadata": {
        "id": "y7-yb70GA2zn",
        "colab": {
          "base_uri": "https://localhost:8080/",
          "height": 102,
          "referenced_widgets": [
            "4c5effe9091044569b711872ff2ca6fc",
            "2a2b0883246e42eb944ae3c086bcd652",
            "0a2388f847aa4ed08026ddd656d85e28",
            "2ed03da459fa4526aaa7885a08e7b848",
            "ae1d73627c754f83863884f5acf30aa2",
            "9e9115568d394c99b21559c37041109b",
            "f1ff1cb06881486cb3c4f74cef79844e",
            "76b82b43f97f441d8f671d43d0a24aa9",
            "84780a6d81ea4d829b6f0728c6c12f23",
            "9985eb460c2545d8bfcae85e462c32bd",
            "6f19f324e64442cc8ab51f59ab31e25b"
          ]
        },
        "outputId": "67d42dc9-03bf-4393-dc74-89b5f726ddf5"
      },
      "execution_count": null,
      "outputs": [
        {
          "output_type": "display_data",
          "data": {
            "text/plain": [
              "  0%|          | 0/158 [00:00<?, ?it/s]"
            ],
            "application/vnd.jupyter.widget-view+json": {
              "version_major": 2,
              "version_minor": 0,
              "model_id": "4c5effe9091044569b711872ff2ca6fc"
            }
          },
          "metadata": {}
        },
        {
          "output_type": "execute_result",
          "data": {
            "text/plain": [
              "{'model_name': 'OptimizedModule',\n",
              " 'model_loss': 28.12665367126465,\n",
              " 'model_acc': 47.540621957156766}"
            ]
          },
          "metadata": {},
          "execution_count": 50
        }
      ]
    },
    {
      "cell_type": "markdown",
      "source": [
        "### 4.1.4 Save and download the Model"
      ],
      "metadata": {
        "id": "dpzuq9j0EOoh"
      }
    },
    {
      "cell_type": "code",
      "source": [
        "### Save Model\n",
        "from pathlib import Path\n",
        "from google.colab import files\n",
        "import torch\n",
        "\n",
        "MODELS_DIR = Path(\"models\")\n",
        "MODELS_DIR.mkdir(parents=True, exist_ok=True)\n",
        "MODEL_PATH = MODELS_DIR / \"vit_model.pth\"\n",
        "torch.save(vit_model.state_dict(),MODEL_PATH)\n",
        "\n",
        "files.download(MODEL_PATH)"
      ],
      "metadata": {
        "id": "AuuDucV-BJG2",
        "colab": {
          "base_uri": "https://localhost:8080/",
          "height": 211
        },
        "outputId": "7850671d-06b3-4109-b74a-5f57b3aa72ca"
      },
      "execution_count": null,
      "outputs": [
        {
          "output_type": "error",
          "ename": "NameError",
          "evalue": "name 'vit_model' is not defined",
          "traceback": [
            "\u001b[0;31m---------------------------------------------------------------------------\u001b[0m",
            "\u001b[0;31mNameError\u001b[0m                                 Traceback (most recent call last)",
            "\u001b[0;32m/tmp/ipython-input-3947286061.py\u001b[0m in \u001b[0;36m<cell line: 0>\u001b[0;34m()\u001b[0m\n\u001b[1;32m      7\u001b[0m \u001b[0mMODELS_DIR\u001b[0m\u001b[0;34m.\u001b[0m\u001b[0mmkdir\u001b[0m\u001b[0;34m(\u001b[0m\u001b[0mparents\u001b[0m\u001b[0;34m=\u001b[0m\u001b[0;32mTrue\u001b[0m\u001b[0;34m,\u001b[0m \u001b[0mexist_ok\u001b[0m\u001b[0;34m=\u001b[0m\u001b[0;32mTrue\u001b[0m\u001b[0;34m)\u001b[0m\u001b[0;34m\u001b[0m\u001b[0;34m\u001b[0m\u001b[0m\n\u001b[1;32m      8\u001b[0m \u001b[0mMODEL_PATH\u001b[0m \u001b[0;34m=\u001b[0m \u001b[0mMODELS_DIR\u001b[0m \u001b[0;34m/\u001b[0m \u001b[0;34m\"vit_model.pth\"\u001b[0m\u001b[0;34m\u001b[0m\u001b[0;34m\u001b[0m\u001b[0m\n\u001b[0;32m----> 9\u001b[0;31m \u001b[0mtorch\u001b[0m\u001b[0;34m.\u001b[0m\u001b[0msave\u001b[0m\u001b[0;34m(\u001b[0m\u001b[0mvit_model\u001b[0m\u001b[0;34m.\u001b[0m\u001b[0mstate_dict\u001b[0m\u001b[0;34m(\u001b[0m\u001b[0;34m)\u001b[0m\u001b[0;34m,\u001b[0m\u001b[0mMODEL_PATH\u001b[0m\u001b[0;34m)\u001b[0m\u001b[0;34m\u001b[0m\u001b[0;34m\u001b[0m\u001b[0m\n\u001b[0m\u001b[1;32m     10\u001b[0m \u001b[0;34m\u001b[0m\u001b[0m\n\u001b[1;32m     11\u001b[0m \u001b[0mfiles\u001b[0m\u001b[0;34m.\u001b[0m\u001b[0mdownload\u001b[0m\u001b[0;34m(\u001b[0m\u001b[0mMODEL_PATH\u001b[0m\u001b[0;34m)\u001b[0m\u001b[0;34m\u001b[0m\u001b[0;34m\u001b[0m\u001b[0m\n",
            "\u001b[0;31mNameError\u001b[0m: name 'vit_model' is not defined"
          ]
        }
      ]
    },
    {
      "cell_type": "markdown",
      "source": [
        "## 5.0 Deploying our best model"
      ],
      "metadata": {
        "id": "_HuS76O-t66m"
      }
    },
    {
      "cell_type": "markdown",
      "source": [
        "### 5.1.1 Downloading and Importing Gradio"
      ],
      "metadata": {
        "id": "I-GfVbTOeBuC"
      }
    },
    {
      "cell_type": "code",
      "source": [
        "try:\n",
        "  import gradio as gr\n",
        "except:\n",
        "  !pip install gradio\n",
        "  import gradio as gr\n",
        "\n",
        "print(f\"Gradio version: {gr.__version__}\")"
      ],
      "metadata": {
        "id": "hjXtdZe5wWlF",
        "colab": {
          "base_uri": "https://localhost:8080/"
        },
        "outputId": "df162804-abe4-4386-fceb-21cba954e18a"
      },
      "execution_count": null,
      "outputs": [
        {
          "output_type": "stream",
          "name": "stdout",
          "text": [
            "Gradio version: 5.42.0\n"
          ]
        }
      ]
    },
    {
      "cell_type": "markdown",
      "source": [
        "### 5.1.2 Setting up demos directory"
      ],
      "metadata": {
        "id": "spYdJd00pLja"
      }
    },
    {
      "cell_type": "code",
      "source": [
        "import shutil\n",
        "from pathlib import Path\n",
        "\n",
        "#create food vision path\n",
        "food_vision_path = Path(\"demos/food-vision\")\n",
        "\n",
        "if food_vision_path.exists():\n",
        "  shutil.rmtree(food_vision_path)\n",
        "  food_vision_path.mkdir(parents=True, exist_ok=True)\n",
        "else:\n",
        "  food_vision_path.mkdir(parents=True, exist_ok=True)\n",
        "\n",
        "(food_vision_path/\"examples\").mkdir(parents=True, exist_ok=True)\n",
        "\n"
      ],
      "metadata": {
        "id": "QK6BH0uHJC9l"
      },
      "execution_count": null,
      "outputs": []
    },
    {
      "cell_type": "markdown",
      "source": [
        "### 5.1.3 Creating `model.py`"
      ],
      "metadata": {
        "id": "k2QssUSUpc8G"
      }
    },
    {
      "cell_type": "code",
      "source": [
        "%%writefile demos/food-vision/models.py\n",
        "\n",
        "import torch\n",
        "from torch import nn\n",
        "from torchvision.models import efficientnet_v2_s, EfficientNet_V2_S_Weights\n",
        "\n",
        "def createEffNetModel(device:torch.device):\n",
        "  # with torch.device(device):\n",
        "  #number of classes\n",
        "  number_of_classes = 101\n",
        "\n",
        "  #get the pretrained weights\n",
        "  weights = EfficientNet_V2_S_Weights.DEFAULT\n",
        "\n",
        "  #get the transforms used for the pre-trained model\n",
        "  effNetTransforms = weights.transforms()\n",
        "  #instantiate the model with the pre-trained weights\n",
        "  model = efficientnet_v2_s(weights=weights)\n",
        "\n",
        "  #freeze the weights of the feature extraction layers\n",
        "  for param in model.features.parameters():\n",
        "    param.requires_grad = False\n",
        "\n",
        "  #adjust the classification head to have only 101 classes instead of 1000\n",
        "  model.classifier = nn.Sequential(\n",
        "      nn.Dropout(p=0.2, inplace=True),\n",
        "      nn.Linear(in_features=1280, out_features=number_of_classes)\n",
        "  )\n",
        "\n",
        "  return effNetTransforms, model"
      ],
      "metadata": {
        "colab": {
          "base_uri": "https://localhost:8080/"
        },
        "id": "GDC3CjuRpjYd",
        "outputId": "93ca14d5-9245-4d99-d0ae-2189e0885e92"
      },
      "execution_count": null,
      "outputs": [
        {
          "output_type": "stream",
          "name": "stdout",
          "text": [
            "Overwriting demos/food-vision/models.py\n"
          ]
        }
      ]
    },
    {
      "cell_type": "markdown",
      "source": [
        "### 5.1.2 Our Predict Function"
      ],
      "metadata": {
        "id": "v3XcaFTdeJy7"
      }
    },
    {
      "cell_type": "code",
      "source": [
        "from typing import Tuple, Dict\n",
        "import torch\n",
        "from torchvision import transforms\n",
        "from timeit import default_timer as timer\n",
        "from models import createEffNetModel\n",
        "def predict(img) -> Tuple[Dict, float]:\n",
        "  #start a timer\n",
        "  start_time = timer()\n",
        "\n",
        "\n",
        "  #load the saved effnet model\n",
        "  # effNetModel.to(\"cpu\")\n",
        "  # print(next(iter(effNetModel.parameters())).device)\n",
        "\n",
        "  effNet_transforms, effNetModel = createEffNetModel(device=\"cpu\")\n",
        "\n",
        "  #transform image\n",
        "  transformed_img = effNet_transforms(img).unsqueeze(0) #add batch dimension on zero index\n",
        "  effNetModel.load_state_dict(torch.load(\"models/effnet_model.pth\"))\n",
        "  effNetModel.eval()\n",
        "  train_ds, test_ds = get_datasets(effNet_transforms, effNet_transforms)\n",
        "  class_names = train_ds.classes\n",
        "  with torch.inference_mode():\n",
        "    pred_probs = effNetModel(transformed_img).softmax(dim=1)\n",
        "\n",
        "  pred_labels_and_prob = {class_names[i]: float(pred_probs[0][i]) for i in range(len(class_names))}\n",
        "\n",
        "  #remove underscores\n",
        "  formatted_dict = {key.replace(\"_\", \" \"): value for key, value in pred_labels_and_prob.items()}\n",
        "\n",
        "  #end timer\n",
        "  end_time = timer()\n",
        "  pred_time = round(end_time - start_time, 4)\n",
        "\n",
        "  return formatted_dict, pred_time\n"
      ],
      "metadata": {
        "id": "KrmXO3OV2rDq"
      },
      "execution_count": null,
      "outputs": []
    },
    {
      "cell_type": "markdown",
      "source": [
        "### 5.1.3 Writing classnames into a  `class_names.txt`"
      ],
      "metadata": {
        "id": "FQdNpx7IfVJT"
      }
    },
    {
      "cell_type": "code",
      "source": [
        "\n",
        "effNetTransforms, _ = createEffNetModel(device=\"cpu\")\n",
        "train_ds, test_ds = get_datasets(effNetTransforms, effNetTransforms)\n",
        "class_names = train_ds.classes\n",
        "# !mv models/effnet_model.pth demos/food-vision\n",
        "with open(\"demos/food-vision/class_names.txt\", \"w\")  as file:\n",
        "  file.write(\"\\n\".join(class_names))"
      ],
      "metadata": {
        "id": "yf_cdSe_fUdB",
        "colab": {
          "base_uri": "https://localhost:8080/"
        },
        "outputId": "11a6d630-b2df-493a-ac36-af70d2b1bc4a"
      },
      "execution_count": null,
      "outputs": [
        {
          "output_type": "stream",
          "name": "stderr",
          "text": [
            "100%|██████████| 5.00G/5.00G [02:24<00:00, 34.6MB/s]\n"
          ]
        }
      ]
    },
    {
      "cell_type": "markdown",
      "source": [
        "### 5.1.4 Creating `app.py` - the gradio app"
      ],
      "metadata": {
        "id": "O9BFIGzQzwAR"
      }
    },
    {
      "cell_type": "code",
      "source": [
        "%%writefile demos/food-vision/app.py\n",
        "\n",
        "import gradio as gr\n",
        "import os\n",
        "from typing import Tuple, Dict\n",
        "import torch\n",
        "from torchvision import transforms\n",
        "from timeit import default_timer as timer\n",
        "from models import createEffNetModel\n",
        "\n",
        "#set up class names\n",
        "with open(\"demos/food-vision/class_names.txt\", \"r\") as file:\n",
        "  class_names = [food.strip() for food in file.readlines()]\n",
        "\n",
        "#model and transforms preparation\n",
        "effNet_transforms, effNetModel = createEffNetModel(device=\"cpu\")\n",
        "\n",
        "#load saved model and the weights\n",
        "effNetModel.load_state_dict(\n",
        "    f=torch.load(\"models/effnet_model.pth\", map_location=\"cpu\"))\n",
        "\n",
        "def predict(img) -> Tuple[Dict, float]:\n",
        "  #start a timer\n",
        "  start_time = timer()\n",
        "  #transform image\n",
        "  transformed_img = effNet_transforms(img).unsqueeze(0) #add batch dimension on zero index\n",
        "  #set to eval mode\n",
        "  effNetModel.eval()\n",
        "  with torch.inference_mode():\n",
        "    pred_probs = effNetModel(transformed_img).softmax(dim=1)\n",
        "\n",
        "  pred_labels_and_prob = {class_names[i]: float(pred_probs[0][i]) for i in range(len(class_names))}\n",
        "\n",
        "  #remove underscores\n",
        "  formatted_dict = {key.replace(\"_\", \" \"): value for key, value in pred_labels_and_prob.items()}\n",
        "\n",
        "  #end timer\n",
        "  end_time = timer()\n",
        "  pred_time = round(end_time - start_time, 4)\n",
        "\n",
        "  return formatted_dict, pred_time\n",
        "\n",
        "#gradio app\n",
        "title = \"Food Vision App 🍉🍓🍕\"\n",
        "description=\"A deep learning app based on [EfficientNetV2](https://docs.pytorch.org/vision/0.21/models/efficientnetv2.html) that predicts the class of an image\"\n",
        "article=\"Created at [Google Colab Notebook](https://colab.research.google.com/drive/1Te2wElAzKtidJuHxi7Xgy7OM6PKZJvgL?usp=sharing)\"\n",
        "demo = gr.Interface(fn=predict, #map inputs to outputs\n",
        "                    inputs=gr.Image(type=\"pil\"),\n",
        "                    outputs=[\n",
        "                        gr.Label(num_top_classes=3, label=\"prediction\"),\n",
        "                        gr.Number(label=\"Prediction time (s)\")\n",
        "                        ],\n",
        "                    examples=[\"steak.jpg\", \"test2.jpg\", \"test3.jpg\", \"test4.jpg\"],\n",
        "                    title=title,\n",
        "                    description=description,\n",
        "                    article=article\n",
        "                    )\n",
        "#launch the demo\n",
        "demo.launch(debug=False,share=True)"
      ],
      "metadata": {
        "colab": {
          "base_uri": "https://localhost:8080/",
          "height": 495
        },
        "id": "yNzgjQUO0-BL",
        "outputId": "85326890-fcbd-447a-9784-c4ccb6445653"
      },
      "execution_count": null,
      "outputs": [
        {
          "output_type": "stream",
          "name": "stdout",
          "text": [
            "Writing demos/food-vision/app.py\n"
          ]
        },
        {
          "output_type": "error",
          "ename": "FileNotFoundError",
          "evalue": "[Errno 2] No such file or directory: 'demos/food-vision/app.py'",
          "traceback": [
            "\u001b[0;31m---------------------------------------------------------------------------\u001b[0m",
            "\u001b[0;31mFileNotFoundError\u001b[0m                         Traceback (most recent call last)",
            "\u001b[0;32m/tmp/ipython-input-4086834247.py\u001b[0m in \u001b[0;36m<cell line: 0>\u001b[0;34m()\u001b[0m\n\u001b[0;32m----> 1\u001b[0;31m \u001b[0mget_ipython\u001b[0m\u001b[0;34m(\u001b[0m\u001b[0;34m)\u001b[0m\u001b[0;34m.\u001b[0m\u001b[0mrun_cell_magic\u001b[0m\u001b[0;34m(\u001b[0m\u001b[0;34m'writefile'\u001b[0m\u001b[0;34m,\u001b[0m \u001b[0;34m'demos/food-vision/app.py'\u001b[0m\u001b[0;34m,\u001b[0m \u001b[0;34m'\\nimport gradio as gr\\nimport os\\nfrom typing import Tuple, Dict\\nimport torch\\nfrom torchvision import transforms\\nfrom timeit import default_timer as timer\\nfrom models import createEffNetModel\\n\\n#set up class names\\nwith open(\"demos/food-vision/class_names.txt\", \"r\") as file:\\n  class_names = [food.strip() for food in file.readlines()]\\n\\n#model and transforms preparation\\neffNet_transforms, effNetModel = createEffNetModel(device=\"cpu\")\\n\\n#load saved model and the weights\\neffNetModel.load_state_dict(\\n    f=torch.load(\"models/effnet_model.pth\", map_location=\"cpu\"))\\n\\ndef predict(img) -> Tuple[Dict, float]:\\n  #start a timer\\n  start_time = timer()\\n  #transform image\\n  transformed_img = effNet_transforms(img).unsqueeze(0) #add batch dimension on zero index\\n  #set to eval mode\\n  effNetModel.eval()\\n  with torch.inference_mode():\\n    pred_probs = effNetModel(transformed_img).softmax(dim=1)\\n\\n  pred_labels_and_prob = {class_names[i]: float(pred_probs[0][i]) for i in range(len(class_names))}\\n\\n  #remove underscores\\n  formatted_dict = {key.replace(\"_\", \" \"): value for key, value in pred_labels_and_prob.items()}\\n\\n  #end timer\\n  end_time = timer()\\n  pred_time = round(end_time - start_time, 4)\\n\\n  return formatted_dict, pred_time\\n\\n#gradio app\\ntitle = \"Food Vi...\n\u001b[0m",
            "\u001b[0;32m/usr/local/lib/python3.12/dist-packages/google/colab/_shell.py\u001b[0m in \u001b[0;36mrun_cell_magic\u001b[0;34m(self, magic_name, line, cell)\u001b[0m\n\u001b[1;32m    274\u001b[0m     \u001b[0;32mif\u001b[0m \u001b[0mline\u001b[0m \u001b[0;32mand\u001b[0m \u001b[0;32mnot\u001b[0m \u001b[0mcell\u001b[0m\u001b[0;34m:\u001b[0m\u001b[0;34m\u001b[0m\u001b[0;34m\u001b[0m\u001b[0m\n\u001b[1;32m    275\u001b[0m       \u001b[0mcell\u001b[0m \u001b[0;34m=\u001b[0m \u001b[0;34m' '\u001b[0m\u001b[0;34m\u001b[0m\u001b[0;34m\u001b[0m\u001b[0m\n\u001b[0;32m--> 276\u001b[0;31m     \u001b[0;32mreturn\u001b[0m \u001b[0msuper\u001b[0m\u001b[0;34m(\u001b[0m\u001b[0;34m)\u001b[0m\u001b[0;34m.\u001b[0m\u001b[0mrun_cell_magic\u001b[0m\u001b[0;34m(\u001b[0m\u001b[0mmagic_name\u001b[0m\u001b[0;34m,\u001b[0m \u001b[0mline\u001b[0m\u001b[0;34m,\u001b[0m \u001b[0mcell\u001b[0m\u001b[0;34m)\u001b[0m\u001b[0;34m\u001b[0m\u001b[0;34m\u001b[0m\u001b[0m\n\u001b[0m\u001b[1;32m    277\u001b[0m \u001b[0;34m\u001b[0m\u001b[0m\n\u001b[1;32m    278\u001b[0m \u001b[0;34m\u001b[0m\u001b[0m\n",
            "\u001b[0;32m/usr/local/lib/python3.12/dist-packages/IPython/core/interactiveshell.py\u001b[0m in \u001b[0;36mrun_cell_magic\u001b[0;34m(self, magic_name, line, cell)\u001b[0m\n\u001b[1;32m   2471\u001b[0m             \u001b[0;32mwith\u001b[0m \u001b[0mself\u001b[0m\u001b[0;34m.\u001b[0m\u001b[0mbuiltin_trap\u001b[0m\u001b[0;34m:\u001b[0m\u001b[0;34m\u001b[0m\u001b[0;34m\u001b[0m\u001b[0m\n\u001b[1;32m   2472\u001b[0m                 \u001b[0margs\u001b[0m \u001b[0;34m=\u001b[0m \u001b[0;34m(\u001b[0m\u001b[0mmagic_arg_s\u001b[0m\u001b[0;34m,\u001b[0m \u001b[0mcell\u001b[0m\u001b[0;34m)\u001b[0m\u001b[0;34m\u001b[0m\u001b[0;34m\u001b[0m\u001b[0m\n\u001b[0;32m-> 2473\u001b[0;31m                 \u001b[0mresult\u001b[0m \u001b[0;34m=\u001b[0m \u001b[0mfn\u001b[0m\u001b[0;34m(\u001b[0m\u001b[0;34m*\u001b[0m\u001b[0margs\u001b[0m\u001b[0;34m,\u001b[0m \u001b[0;34m**\u001b[0m\u001b[0mkwargs\u001b[0m\u001b[0;34m)\u001b[0m\u001b[0;34m\u001b[0m\u001b[0;34m\u001b[0m\u001b[0m\n\u001b[0m\u001b[1;32m   2474\u001b[0m             \u001b[0;32mreturn\u001b[0m \u001b[0mresult\u001b[0m\u001b[0;34m\u001b[0m\u001b[0;34m\u001b[0m\u001b[0m\n\u001b[1;32m   2475\u001b[0m \u001b[0;34m\u001b[0m\u001b[0m\n",
            "\u001b[0;32m<decorator-gen-98>\u001b[0m in \u001b[0;36mwritefile\u001b[0;34m(self, line, cell)\u001b[0m\n",
            "\u001b[0;32m/usr/local/lib/python3.12/dist-packages/IPython/core/magic.py\u001b[0m in \u001b[0;36m<lambda>\u001b[0;34m(f, *a, **k)\u001b[0m\n\u001b[1;32m    185\u001b[0m     \u001b[0;31m# but it's overkill for just that one bit of state.\u001b[0m\u001b[0;34m\u001b[0m\u001b[0;34m\u001b[0m\u001b[0m\n\u001b[1;32m    186\u001b[0m     \u001b[0;32mdef\u001b[0m \u001b[0mmagic_deco\u001b[0m\u001b[0;34m(\u001b[0m\u001b[0marg\u001b[0m\u001b[0;34m)\u001b[0m\u001b[0;34m:\u001b[0m\u001b[0;34m\u001b[0m\u001b[0;34m\u001b[0m\u001b[0m\n\u001b[0;32m--> 187\u001b[0;31m         \u001b[0mcall\u001b[0m \u001b[0;34m=\u001b[0m \u001b[0;32mlambda\u001b[0m \u001b[0mf\u001b[0m\u001b[0;34m,\u001b[0m \u001b[0;34m*\u001b[0m\u001b[0ma\u001b[0m\u001b[0;34m,\u001b[0m \u001b[0;34m**\u001b[0m\u001b[0mk\u001b[0m\u001b[0;34m:\u001b[0m \u001b[0mf\u001b[0m\u001b[0;34m(\u001b[0m\u001b[0;34m*\u001b[0m\u001b[0ma\u001b[0m\u001b[0;34m,\u001b[0m \u001b[0;34m**\u001b[0m\u001b[0mk\u001b[0m\u001b[0;34m)\u001b[0m\u001b[0;34m\u001b[0m\u001b[0;34m\u001b[0m\u001b[0m\n\u001b[0m\u001b[1;32m    188\u001b[0m \u001b[0;34m\u001b[0m\u001b[0m\n\u001b[1;32m    189\u001b[0m         \u001b[0;32mif\u001b[0m \u001b[0mcallable\u001b[0m\u001b[0;34m(\u001b[0m\u001b[0marg\u001b[0m\u001b[0;34m)\u001b[0m\u001b[0;34m:\u001b[0m\u001b[0;34m\u001b[0m\u001b[0;34m\u001b[0m\u001b[0m\n",
            "\u001b[0;32m/usr/local/lib/python3.12/dist-packages/IPython/core/magics/osm.py\u001b[0m in \u001b[0;36mwritefile\u001b[0;34m(self, line, cell)\u001b[0m\n\u001b[1;32m    854\u001b[0m \u001b[0;34m\u001b[0m\u001b[0m\n\u001b[1;32m    855\u001b[0m         \u001b[0mmode\u001b[0m \u001b[0;34m=\u001b[0m \u001b[0;34m'a'\u001b[0m \u001b[0;32mif\u001b[0m \u001b[0margs\u001b[0m\u001b[0;34m.\u001b[0m\u001b[0mappend\u001b[0m \u001b[0;32melse\u001b[0m \u001b[0;34m'w'\u001b[0m\u001b[0;34m\u001b[0m\u001b[0;34m\u001b[0m\u001b[0m\n\u001b[0;32m--> 856\u001b[0;31m         \u001b[0;32mwith\u001b[0m \u001b[0mio\u001b[0m\u001b[0;34m.\u001b[0m\u001b[0mopen\u001b[0m\u001b[0;34m(\u001b[0m\u001b[0mfilename\u001b[0m\u001b[0;34m,\u001b[0m \u001b[0mmode\u001b[0m\u001b[0;34m,\u001b[0m \u001b[0mencoding\u001b[0m\u001b[0;34m=\u001b[0m\u001b[0;34m'utf-8'\u001b[0m\u001b[0;34m)\u001b[0m \u001b[0;32mas\u001b[0m \u001b[0mf\u001b[0m\u001b[0;34m:\u001b[0m\u001b[0;34m\u001b[0m\u001b[0;34m\u001b[0m\u001b[0m\n\u001b[0m\u001b[1;32m    857\u001b[0m             \u001b[0mf\u001b[0m\u001b[0;34m.\u001b[0m\u001b[0mwrite\u001b[0m\u001b[0;34m(\u001b[0m\u001b[0mcell\u001b[0m\u001b[0;34m)\u001b[0m\u001b[0;34m\u001b[0m\u001b[0;34m\u001b[0m\u001b[0m\n",
            "\u001b[0;31mFileNotFoundError\u001b[0m: [Errno 2] No such file or directory: 'demos/food-vision/app.py'"
          ]
        }
      ]
    },
    {
      "cell_type": "code",
      "source": [],
      "metadata": {
        "colab": {
          "base_uri": "https://localhost:8080/"
        },
        "id": "d4x8824gLvpr",
        "outputId": "d8d94d8a-c9a9-4872-9202-4a06a6222833"
      },
      "execution_count": null,
      "outputs": [
        {
          "output_type": "stream",
          "name": "stdout",
          "text": [
            "Downloading: \"https://download.pytorch.org/models/efficientnet_v2_s-dd5fe13b.pth\" to /root/.cache/torch/hub/checkpoints/efficientnet_v2_s-dd5fe13b.pth\n"
          ]
        },
        {
          "output_type": "stream",
          "name": "stderr",
          "text": [
            "100%|██████████| 82.7M/82.7M [00:00<00:00, 207MB/s]\n",
            "100%|██████████| 5.00G/5.00G [03:36<00:00, 23.1MB/s]\n"
          ]
        }
      ]
    },
    {
      "cell_type": "code",
      "source": [],
      "metadata": {
        "id": "WXJGI2sjJhjE"
      },
      "execution_count": null,
      "outputs": []
    },
    {
      "cell_type": "code",
      "source": [
        "!ls demos/food-vision"
      ],
      "metadata": {
        "colab": {
          "base_uri": "https://localhost:8080/"
        },
        "id": "echvUaoLM7m3",
        "outputId": "2c0a3b43-4536-4a1b-ee35-e13cbb2e047d"
      },
      "execution_count": null,
      "outputs": [
        {
          "output_type": "stream",
          "name": "stdout",
          "text": [
            "class_names.txt  examples\n"
          ]
        }
      ]
    },
    {
      "cell_type": "markdown",
      "source": [
        "### 5.1.5 creating `requirements.txt`"
      ],
      "metadata": {
        "id": "ih5KDbWvkmI_"
      }
    },
    {
      "cell_type": "code",
      "source": [
        "%%writefile demos/food-vision/requirements.txt\n",
        "torch=2.8.0+cu126\n",
        "torchvision=0.23.0+cu126\n",
        "gradio=5.42.0"
      ],
      "metadata": {
        "colab": {
          "base_uri": "https://localhost:8080/"
        },
        "id": "jZO0FaF3lZaN",
        "outputId": "54dbaab2-a87e-4e29-e8b9-a6fcfed7d9cf"
      },
      "execution_count": null,
      "outputs": [
        {
          "output_type": "stream",
          "name": "stdout",
          "text": [
            "Writing demos/food-vision/requirements.txt\n"
          ]
        }
      ]
    },
    {
      "cell_type": "markdown",
      "source": [
        "### 5.1.6 Zipping and Downloading Foodvision"
      ],
      "metadata": {
        "id": "Atjh67MCnsjZ"
      }
    },
    {
      "cell_type": "code",
      "source": [
        "!cd demos/food-vision && zip -r ../foodvision_app.zip * -x  \"*.pyc\" \"*.ipynb_checkpoints*\" \"*.ipynb\" \"*__pycache__*\""
      ],
      "metadata": {
        "colab": {
          "base_uri": "https://localhost:8080/"
        },
        "id": "UBY6tMkJmCHU",
        "outputId": "745f18ab-4830-4a5d-c050-b9d847504ea8"
      },
      "execution_count": null,
      "outputs": [
        {
          "output_type": "stream",
          "name": "stdout",
          "text": [
            "  adding: app.py (deflated 52%)\n",
            "  adding: class_names.txt (deflated 48%)\n",
            "  adding: examples/ (stored 0%)\n",
            "  adding: examples/test2.jpg (deflated 0%)\n",
            "  adding: examples/test3.jpg (deflated 0%)\n",
            "  adding: examples/test1.jpg (deflated 0%)\n",
            "  adding: model.py (deflated 52%)\n",
            "  adding: requirements.txt (deflated 14%)\n"
          ]
        }
      ]
    },
    {
      "cell_type": "code",
      "source": [
        "from google.colab import files\n",
        "files.download(\"demos/foodvision_app.zip\")"
      ],
      "metadata": {
        "colab": {
          "base_uri": "https://localhost:8080/",
          "height": 17
        },
        "id": "_xaE3KlGnK4V",
        "outputId": "d5ea6e4c-5ac8-49fa-8512-54b112e28587"
      },
      "execution_count": null,
      "outputs": [
        {
          "output_type": "display_data",
          "data": {
            "text/plain": [
              "<IPython.core.display.Javascript object>"
            ],
            "application/javascript": [
              "\n",
              "    async function download(id, filename, size) {\n",
              "      if (!google.colab.kernel.accessAllowed) {\n",
              "        return;\n",
              "      }\n",
              "      const div = document.createElement('div');\n",
              "      const label = document.createElement('label');\n",
              "      label.textContent = `Downloading \"${filename}\": `;\n",
              "      div.appendChild(label);\n",
              "      const progress = document.createElement('progress');\n",
              "      progress.max = size;\n",
              "      div.appendChild(progress);\n",
              "      document.body.appendChild(div);\n",
              "\n",
              "      const buffers = [];\n",
              "      let downloaded = 0;\n",
              "\n",
              "      const channel = await google.colab.kernel.comms.open(id);\n",
              "      // Send a message to notify the kernel that we're ready.\n",
              "      channel.send({})\n",
              "\n",
              "      for await (const message of channel.messages) {\n",
              "        // Send a message to notify the kernel that we're ready.\n",
              "        channel.send({})\n",
              "        if (message.buffers) {\n",
              "          for (const buffer of message.buffers) {\n",
              "            buffers.push(buffer);\n",
              "            downloaded += buffer.byteLength;\n",
              "            progress.value = downloaded;\n",
              "          }\n",
              "        }\n",
              "      }\n",
              "      const blob = new Blob(buffers, {type: 'application/binary'});\n",
              "      const a = document.createElement('a');\n",
              "      a.href = window.URL.createObjectURL(blob);\n",
              "      a.download = filename;\n",
              "      div.appendChild(a);\n",
              "      a.click();\n",
              "      div.remove();\n",
              "    }\n",
              "  "
            ]
          },
          "metadata": {}
        },
        {
          "output_type": "display_data",
          "data": {
            "text/plain": [
              "<IPython.core.display.Javascript object>"
            ],
            "application/javascript": [
              "download(\"download_16c0f912-b50c-4ecc-9303-607df72f4153\", \"foodvision_app.zip\", 304112)"
            ]
          },
          "metadata": {}
        }
      ]
    }
  ]
}